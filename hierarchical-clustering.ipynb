{
 "cells": [
  {
   "cell_type": "markdown",
   "metadata": {},
   "source": [
    "# Hierarchical Clustering Demo"
   ]
  },
  {
   "cell_type": "code",
   "execution_count": 1,
   "metadata": {},
   "outputs": [],
   "source": [
    "import numpy as np\n",
    "import matplotlib.pyplot as plt\n",
    "import seaborn as sns"
   ]
  },
  {
   "cell_type": "code",
   "execution_count": 2,
   "metadata": {},
   "outputs": [],
   "source": [
    "np.random.seed(42)"
   ]
  },
  {
   "cell_type": "markdown",
   "metadata": {},
   "source": [
    "## Get the dataset to cluster\n",
    "For demonstration purposes we will again generate random 2D points."
   ]
  },
  {
   "cell_type": "code",
   "execution_count": 3,
   "metadata": {},
   "outputs": [],
   "source": [
    "# Generate two globular clusters (25 points in each, 2 dimensions)\n",
    "SEPARATION = 3  # Experiment with this value to push the clusters closer or further apart\n",
    "set_1 = np.random.randn(25, 2) + np.array([6 - SEPARATION, 6 - SEPARATION])\n",
    "set_2 = np.random.randn(25, 2) + np.array([6 + SEPARATION, 6 + SEPARATION])\n",
    "\n",
    "# Stack the sets into a single dataset\n",
    "data = np.vstack([set_1, set_2])"
   ]
  },
  {
   "cell_type": "code",
   "execution_count": 4,
   "metadata": {},
   "outputs": [
    {
     "data": {
      "text/plain": [
       "array([[ 3.49671415,  2.8617357 ],\n",
       "       [ 3.64768854,  4.52302986],\n",
       "       [ 2.76584663,  2.76586304],\n",
       "       [ 4.57921282,  3.76743473],\n",
       "       [ 2.53052561,  3.54256004],\n",
       "       [ 2.53658231,  2.53427025],\n",
       "       [ 3.24196227,  1.08671976],\n",
       "       [ 1.27508217,  2.43771247],\n",
       "       [ 1.98716888,  3.31424733],\n",
       "       [ 2.09197592,  1.5876963 ],\n",
       "       [ 4.46564877,  2.7742237 ],\n",
       "       [ 3.0675282 ,  1.57525181],\n",
       "       [ 2.45561728,  3.11092259],\n",
       "       [ 1.84900642,  3.37569802],\n",
       "       [ 2.39936131,  2.70830625],\n",
       "       [ 2.39829339,  4.85227818],\n",
       "       [ 2.98650278,  1.94228907],\n",
       "       [ 3.82254491,  1.77915635],\n",
       "       [ 3.2088636 ,  1.04032988],\n",
       "       [ 1.67181395,  3.19686124],\n",
       "       [ 3.73846658,  3.17136828],\n",
       "       [ 2.88435172,  2.6988963 ],\n",
       "       [ 1.52147801,  2.28015579],\n",
       "       [ 2.53936123,  4.05712223],\n",
       "       [ 3.34361829,  1.23695984],\n",
       "       [ 9.32408397,  8.61491772],\n",
       "       [ 8.323078  ,  9.61167629],\n",
       "       [10.03099952,  9.93128012],\n",
       "       [ 8.16078248,  8.69078762],\n",
       "       [ 9.33126343,  9.97554513],\n",
       "       [ 8.52082576,  8.81434102],\n",
       "       [ 7.89366503,  7.80379338],\n",
       "       [ 9.81252582, 10.35624003],\n",
       "       [ 8.92798988, 10.0035329 ],\n",
       "       [ 9.36163603,  8.35488025],\n",
       "       [ 9.36139561, 10.53803657],\n",
       "       [ 8.96417396, 10.56464366],\n",
       "       [ 6.3802549 ,  9.8219025 ],\n",
       "       [ 9.08704707,  8.70099265],\n",
       "       [ 9.09176078,  7.01243109],\n",
       "       [ 8.78032811,  9.35711257],\n",
       "       [10.47789404,  8.48172978],\n",
       "       [ 8.1915064 ,  8.49824296],\n",
       "       [ 9.91540212,  9.32875111],\n",
       "       [ 8.4702398 ,  9.51326743],\n",
       "       [ 9.09707755,  9.96864499],\n",
       "       [ 8.29794691,  8.67233785],\n",
       "       [ 8.60789185,  7.53648505],\n",
       "       [ 9.29612028,  9.26105527],\n",
       "       [ 9.00511346,  8.76541287]])"
      ]
     },
     "execution_count": 4,
     "metadata": {},
     "output_type": "execute_result"
    }
   ],
   "source": [
    "data"
   ]
  },
  {
   "cell_type": "markdown",
   "metadata": {},
   "source": [
    "The dataset produced in the cell above contains two globular clusters. You can experiment with adding an additional linear cluster by uncommenting the code in the cell below."
   ]
  },
  {
   "cell_type": "code",
   "execution_count": 5,
   "metadata": {},
   "outputs": [],
   "source": [
    "# # Generate an additional linear cluster\n",
    "# x = np.linspace(0, 12, 25)  # Evenly spaced X values from 0 to 12 for 25 points\n",
    "# y = 12 - x  # Linear Y values to create a line from (0,12) to (12,0)\n",
    "# # Combine X and Y to form the linear cluster\n",
    "# linear_cluster = np.column_stack([x, y])\n",
    "# data = np.vstack([data, linear_cluster])"
   ]
  },
  {
   "cell_type": "markdown",
   "metadata": {},
   "source": [
    "### Visualize our data prior to clustering"
   ]
  },
  {
   "cell_type": "code",
   "execution_count": 6,
   "metadata": {},
   "outputs": [
    {
     "data": {
      "text/plain": [
       "Text(0.5, 1.0, 'Data Before Clustering')"
      ]
     },
     "execution_count": 6,
     "metadata": {},
     "output_type": "execute_result"
    },
    {
     "data": {
      "image/png": "[encoded data removed]",
      "text/plain": [
       "<Figure size 640x480 with 1 Axes>"
      ]
     },
     "metadata": {},
     "output_type": "display_data"
    }
   ],
   "source": [
    "sns.scatterplot(x=data[:, 0],  # data[:, 0] selects all the x-coordinates in data\n",
    "                y=data[:, 1])  # data[:, 1] selects all the y-coordinates in data\n",
    "plt.title('Data Before Clustering')"
   ]
  },
  {
   "cell_type": "markdown",
   "metadata": {},
   "source": [
    "## Perform the hierarchical clustering\n",
    "Here we generate a linkage matrix using the linkage() function that we imported from SciPy above. Just as X often represents the input data to a machine learning algorithm (in this case the 2D coordinates of each data point) and y is used for the output (the actual or predicted values), Z is the variable name conventionally used to represent the linkage matrix.\n",
    "\n",
    "In this example, clusters are formed by linking points to nearby points or previously generated clusters. This is known as agglomerative clustering. It is also possible to use divisive clustering where we start with the entire dataset and break it apart a step at a time.\n",
    "\n",
    "With agglomerative clustering there are different ways to link the data points/previously generated clusters. Ward linkage is often the default choice (as indicated by method='ward' in the code below), but you can experiment with the other approaches by uncommenting the alternatives. You can read more about these methods in the documentation (https://docs.scipy.org/doc/scipy/reference/generated/scipy.cluster.hierarchy.linkage.html)\n",
    "\n",
    "Each row of Z has the format [idx1, idx2, dist, sample_count], where:\n",
    " - idx1 and idx2 are the indexes of either the original observations (the data points) or previously formed clusters.\n",
    " - dist is the distance between these clusters.\n",
    " - sample_count is the number of original observations in the newly formed cluster."
   ]
  },
  {
   "cell_type": "code",
   "execution_count": 7,
   "metadata": {},
   "outputs": [],
   "source": [
    "from scipy.cluster.hierarchy import linkage"
   ]
  },
  {
   "cell_type": "code",
   "execution_count": 8,
   "metadata": {},
   "outputs": [
    {
     "data": {
      "text/plain": [
       "array([[6.00000000e+00, 1.80000000e+01, 5.69872204e-02, 2.00000000e+00],\n",
       "       [3.80000000e+01, 4.90000000e+01, 1.04226106e-01, 2.00000000e+00],\n",
       "       [2.00000000e+00, 2.10000000e+01, 1.36117600e-01, 2.00000000e+00],\n",
       "       [2.80000000e+01, 4.60000000e+01, 1.38399692e-01, 2.00000000e+00],\n",
       "       [8.00000000e+00, 1.30000000e+01, 1.51211942e-01, 2.00000000e+00],\n",
       "       [3.30000000e+01, 4.50000000e+01, 1.72649375e-01, 2.00000000e+00],\n",
       "       [2.60000000e+01, 4.40000000e+01, 1.77033605e-01, 2.00000000e+00],\n",
       "       [4.20000000e+01, 5.30000000e+01, 2.16146225e-01, 3.00000000e+00],\n",
       "       [5.00000000e+00, 1.40000000e+01, 2.21626110e-01, 2.00000000e+00],\n",
       "       [2.40000000e+01, 5.00000000e+01, 2.42355704e-01, 3.00000000e+00],\n",
       "       [2.50000000e+01, 3.40000000e+01, 2.62734933e-01, 2.00000000e+00],\n",
       "       [7.00000000e+00, 2.20000000e+01, 2.92463704e-01, 2.00000000e+00],\n",
       "       [1.90000000e+01, 5.40000000e+01, 3.31838784e-01, 3.00000000e+00],\n",
       "       [2.90000000e+01, 5.50000000e+01, 3.68238700e-01, 3.00000000e+00],\n",
       "       [1.10000000e+01, 1.60000000e+01, 3.75874272e-01, 2.00000000e+00],\n",
       "       [0.00000000e+00, 2.00000000e+01, 3.92831480e-01, 2.00000000e+00],\n",
       "       [3.50000000e+01, 3.60000000e+01, 3.98111758e-01, 2.00000000e+00],\n",
       "       [4.00000000e+00, 1.20000000e+01, 4.38089204e-01, 2.00000000e+00],\n",
       "       [3.00000000e+01, 5.70000000e+01, 4.41683650e-01, 4.00000000e+00],\n",
       "       [2.70000000e+01, 3.20000000e+01, 4.77830181e-01, 2.00000000e+00],\n",
       "       [4.00000000e+01, 5.60000000e+01, 5.02493123e-01, 3.00000000e+00],\n",
       "       [5.20000000e+01, 5.80000000e+01, 5.28925813e-01, 4.00000000e+00],\n",
       "       [5.10000000e+01, 6.00000000e+01, 5.47234823e-01, 4.00000000e+00],\n",
       "       [4.30000000e+01, 4.80000000e+01, 6.22970886e-01, 2.00000000e+00],\n",
       "       [3.90000000e+01, 4.70000000e+01, 7.13275333e-01, 2.00000000e+00],\n",
       "       [1.50000000e+01, 2.30000000e+01, 8.07572371e-01, 2.00000000e+00],\n",
       "       [6.30000000e+01, 6.60000000e+01, 8.83761769e-01, 5.00000000e+00],\n",
       "       [1.70000000e+01, 6.40000000e+01, 9.18899811e-01, 3.00000000e+00],\n",
       "       [3.00000000e+00, 1.00000000e+01, 9.99682421e-01, 2.00000000e+00],\n",
       "       [6.20000000e+01, 6.70000000e+01, 1.01907869e+00, 5.00000000e+00],\n",
       "       [5.90000000e+01, 7.70000000e+01, 1.11684490e+00, 6.00000000e+00],\n",
       "       [9.00000000e+00, 6.10000000e+01, 1.19778780e+00, 3.00000000e+00],\n",
       "       [3.10000000e+01, 6.80000000e+01, 1.20514757e+00, 5.00000000e+00],\n",
       "       [6.90000000e+01, 7.30000000e+01, 1.28094882e+00, 4.00000000e+00],\n",
       "       [6.50000000e+01, 7.80000000e+01, 1.32920510e+00, 4.00000000e+00],\n",
       "       [1.00000000e+00, 7.50000000e+01, 1.36351641e+00, 3.00000000e+00],\n",
       "       [4.10000000e+01, 7.20000000e+01, 1.63138597e+00, 5.00000000e+00],\n",
       "       [7.60000000e+01, 8.30000000e+01, 1.67920958e+00, 9.00000000e+00],\n",
       "       [7.10000000e+01, 7.90000000e+01, 1.76185358e+00, 9.00000000e+00],\n",
       "       [7.00000000e+01, 8.20000000e+01, 2.02484867e+00, 8.00000000e+00],\n",
       "       [7.40000000e+01, 8.60000000e+01, 2.43510853e+00, 7.00000000e+00],\n",
       "       [8.10000000e+01, 8.80000000e+01, 2.47826502e+00, 1.20000000e+01],\n",
       "       [3.70000000e+01, 8.90000000e+01, 2.89258364e+00, 9.00000000e+00],\n",
       "       [8.40000000e+01, 8.50000000e+01, 3.33233720e+00, 7.00000000e+00],\n",
       "       [9.00000000e+01, 9.20000000e+01, 3.91598824e+00, 1.60000000e+01],\n",
       "       [9.10000000e+01, 9.30000000e+01, 4.95066492e+00, 1.90000000e+01],\n",
       "       [8.70000000e+01, 9.40000000e+01, 5.31597367e+00, 2.50000000e+01],\n",
       "       [8.00000000e+01, 9.50000000e+01, 5.42256655e+00, 2.50000000e+01],\n",
       "       [9.60000000e+01, 9.70000000e+01, 4.41600852e+01, 5.00000000e+01]])"
      ]
     },
     "execution_count": 8,
     "metadata": {},
     "output_type": "execute_result"
    }
   ],
   "source": [
    "# Using the linkage function to perform hierarchical clustering\n",
    "# 'ward' method minimizes the variance of clusters being merged\n",
    "# Z = linkage(data, method=     )\n",
    "# Z = linkage(data, method='average')\n",
    "# Z = linkage(data, method='median')\n",
    "# Z = linkage(data, method='complete')  # farthest point between clusters\n",
    "# Z = linkage(data, method='single')  # nearest distance between clusters\n",
    "# Z = linkage(data, method='weighted')\n",
    "Z = linkage(data, method='ward')\n",
    "Z"
   ]
  },
  {
   "cell_type": "markdown",
   "metadata": {},
   "source": [
    "### Plot the Dendrogram\n",
    "A dendrogam shows how the data points have been hierarchically clustered. For example, in the diagram below we can see that (with method='ward') points 6 and 18 were very close together and have been merged into a cluster of two points. Point 24 was very close to that cluster and therefore was merged with 6 and 18 to form a cluster of three points. The dendrogram shows the whole structure."
   ]
  },
  {
   "cell_type": "code",
   "execution_count": 9,
   "metadata": {},
   "outputs": [],
   "source": [
    "from scipy.cluster.hierarchy import dendrogram"
   ]
  },
  {
   "cell_type": "code",
   "execution_count": 10,
   "metadata": {},
   "outputs": [
    {
     "data": {
      "text/plain": [
       "Text(0, 0.5, 'Distance')"
      ]
     },
     "execution_count": 10,
     "metadata": {},
     "output_type": "execute_result"
    },
    {
     "data": {
      "image/png": "[encoded data removed]",
      "text/plain": [
       "<Figure size 1000x700 with 1 Axes>"
      ]
     },
     "metadata": {},
     "output_type": "display_data"
    }
   ],
   "source": [
    "# Plotting the dendrogram\n",
    "plt.figure(figsize=(10, 7))\n",
    "dendrogram(Z, leaf_rotation=90)\n",
    "\n",
    "plt.title(\"Hierarchical Clustering Dendrogram\")\n",
    "plt.xlabel(\"Sample index\")\n",
    "plt.ylabel(\"Distance\")"
   ]
  },
  {
   "cell_type": "markdown",
   "metadata": {},
   "source": [
    "## Cut the Dendrogram to Create Clusters\n",
    "Using the linkage matrix Z, we can use fcluster to cut the dendrogram if we want to get a desired number of clusters. We can experiment with the number of clusters to see what works well."
   ]
  },
  {
   "cell_type": "code",
   "execution_count": 11,
   "metadata": {},
   "outputs": [],
   "source": [
    "from scipy.cluster.hierarchy import fcluster"
   ]
  },
  {
   "cell_type": "code",
   "execution_count": 12,
   "metadata": {},
   "outputs": [],
   "source": [
    "NUMBER_OF_CLUSTERS = 2\n",
    "cluster_labels = fcluster(Z, t=NUMBER_OF_CLUSTERS, criterion='maxclust')"
   ]
  },
  {
   "cell_type": "code",
   "execution_count": 13,
   "metadata": {},
   "outputs": [
    {
     "data": {
      "text/plain": [
       "array([2, 2, 2, 2, 2, 2, 2, 2, 2, 2, 2, 2, 2, 2, 2, 2, 2, 2, 2, 2, 2, 2,\n",
       "       2, 2, 2, 1, 1, 1, 1, 1, 1, 1, 1, 1, 1, 1, 1, 1, 1, 1, 1, 1, 1, 1,\n",
       "       1, 1, 1, 1, 1, 1], dtype=int32)"
      ]
     },
     "execution_count": 13,
     "metadata": {},
     "output_type": "execute_result"
    }
   ],
   "source": [
    "cluster_labels"
   ]
  },
  {
   "cell_type": "markdown",
   "metadata": {},
   "source": [
    "Next we'll create another scatterplot of the data but we'll use the hue argument to highlight the different clusters."
   ]
  },
  {
   "cell_type": "code",
   "execution_count": 14,
   "metadata": {},
   "outputs": [
    {
     "data": {
      "text/plain": [
       "<matplotlib.legend.Legend at 0x1eca4036780>"
      ]
     },
     "execution_count": 14,
     "metadata": {},
     "output_type": "execute_result"
    },
    {
     "data": {
      "image/png": "[encoded data removed]",
      "text/plain": [
       "<Figure size 640x480 with 1 Axes>"
      ]
     },
     "metadata": {},
     "output_type": "display_data"
    }
   ],
   "source": [
    "# Create a scatter plot\n",
    "sns.scatterplot(x=data[:, 0],\n",
    "                y=data[:, 1],\n",
    "                hue=cluster_labels,\n",
    "                palette='Set2')\n",
    "\n",
    "plt.title(\"Hierarchical Clustering Results\")\n",
    "plt.xlabel(\"x\")\n",
    "plt.ylabel(\"y\")\n",
    "\n",
    "# Show legend with cluster labels\n",
    "plt.legend(title='Cluster')"
   ]
  },
  {
   "cell_type": "markdown",
   "metadata": {},
   "source": [
    "# Cluster the Well-Known Iris Dataset\n",
    "This dataset is more often used for supervised learning - we predict species of iris based on petal length, petal width, sepal length, and sepal width. But we will use these features to cluster the data and then see if our clusters correspond to the species labels."
   ]
  },
  {
   "cell_type": "markdown",
   "metadata": {},
   "source": [
    "### Load the Dataset\n",
    "The iris dataset is very well known and is available from various sources including Kaggle. For convenience we'll load it from Scikit-learn in this demo."
   ]
  },
  {
   "cell_type": "code",
   "execution_count": 15,
   "metadata": {},
   "outputs": [],
   "source": [
    "from sklearn.datasets import load_iris"
   ]
  },
  {
   "cell_type": "code",
   "execution_count": 16,
   "metadata": {},
   "outputs": [],
   "source": [
    "# I originally read the data from a CSV file that I downloaded from Kaggle.\n",
    "# This included the species column.\n",
    "# import pandas as pd\n",
    "# iris_df = pd.read_csv('./data/iris.csv')\n",
    "\n",
    "# To simplify the example, I modified the code to load the dataset from sklearn.\n",
    "# This returns a tuple of the features and the target.\n",
    "iris_df, species_array = load_iris(as_frame=True, return_X_y=True)"
   ]
  },
  {
   "cell_type": "code",
   "execution_count": 17,
   "metadata": {},
   "outputs": [
    {
     "data": {
      "text/html": [
       "<div>\n",
       "<style scoped>\n",
       "    .dataframe tbody tr th:only-of-type {\n",
       "        vertical-align: middle;\n",
       "    }\n",
       "\n",
       "    .dataframe tbody tr th {\n",
       "        vertical-align: top;\n",
       "    }\n",
       "\n",
       "    .dataframe thead th {\n",
       "        text-align: right;\n",
       "    }\n",
       "</style>\n",
       "<table border=\"1\" class=\"dataframe\">\n",
       "  <thead>\n",
       "    <tr style=\"text-align: right;\">\n",
       "      <th></th>\n",
       "      <th>sepal length (cm)</th>\n",
       "      <th>sepal width (cm)</th>\n",
       "      <th>petal length (cm)</th>\n",
       "      <th>petal width (cm)</th>\n",
       "    </tr>\n",
       "  </thead>\n",
       "  <tbody>\n",
       "    <tr>\n",
       "      <th>0</th>\n",
       "      <td>5.1</td>\n",
       "      <td>3.5</td>\n",
       "      <td>1.4</td>\n",
       "      <td>0.2</td>\n",
       "    </tr>\n",
       "    <tr>\n",
       "      <th>1</th>\n",
       "      <td>4.9</td>\n",
       "      <td>3.0</td>\n",
       "      <td>1.4</td>\n",
       "      <td>0.2</td>\n",
       "    </tr>\n",
       "    <tr>\n",
       "      <th>2</th>\n",
       "      <td>4.7</td>\n",
       "      <td>3.2</td>\n",
       "      <td>1.3</td>\n",
       "      <td>0.2</td>\n",
       "    </tr>\n",
       "    <tr>\n",
       "      <th>3</th>\n",
       "      <td>4.6</td>\n",
       "      <td>3.1</td>\n",
       "      <td>1.5</td>\n",
       "      <td>0.2</td>\n",
       "    </tr>\n",
       "    <tr>\n",
       "      <th>4</th>\n",
       "      <td>5.0</td>\n",
       "      <td>3.6</td>\n",
       "      <td>1.4</td>\n",
       "      <td>0.2</td>\n",
       "    </tr>\n",
       "  </tbody>\n",
       "</table>\n",
       "</div>"
      ],
      "text/plain": [
       "   sepal length (cm)  sepal width (cm)  petal length (cm)  petal width (cm)\n",
       "0                5.1               3.5                1.4               0.2\n",
       "1                4.9               3.0                1.4               0.2\n",
       "2                4.7               3.2                1.3               0.2\n",
       "3                4.6               3.1                1.5               0.2\n",
       "4                5.0               3.6                1.4               0.2"
      ]
     },
     "execution_count": 17,
     "metadata": {},
     "output_type": "execute_result"
    }
   ],
   "source": [
    "iris_df.head()"
   ]
  },
  {
   "cell_type": "code",
   "execution_count": 18,
   "metadata": {},
   "outputs": [
    {
     "data": {
      "text/plain": [
       "0      0\n",
       "1      0\n",
       "2      0\n",
       "3      0\n",
       "4      0\n",
       "      ..\n",
       "145    2\n",
       "146    2\n",
       "147    2\n",
       "148    2\n",
       "149    2\n",
       "Name: target, Length: 150, dtype: int32"
      ]
     },
     "execution_count": 18,
     "metadata": {},
     "output_type": "execute_result"
    }
   ],
   "source": [
    "species_array"
   ]
  },
  {
   "cell_type": "markdown",
   "metadata": {},
   "source": [
    "### Perform Hierarchical Clustering"
   ]
  },
  {
   "cell_type": "code",
   "execution_count": 19,
   "metadata": {},
   "outputs": [
    {
     "data": {
      "text/html": [
       "<div>\n",
       "<style scoped>\n",
       "    .dataframe tbody tr th:only-of-type {\n",
       "        vertical-align: middle;\n",
       "    }\n",
       "\n",
       "    .dataframe tbody tr th {\n",
       "        vertical-align: top;\n",
       "    }\n",
       "\n",
       "    .dataframe thead th {\n",
       "        text-align: right;\n",
       "    }\n",
       "</style>\n",
       "<table border=\"1\" class=\"dataframe\">\n",
       "  <thead>\n",
       "    <tr style=\"text-align: right;\">\n",
       "      <th></th>\n",
       "      <th>sepal length (cm)</th>\n",
       "      <th>sepal width (cm)</th>\n",
       "      <th>petal length (cm)</th>\n",
       "      <th>petal width (cm)</th>\n",
       "    </tr>\n",
       "  </thead>\n",
       "  <tbody>\n",
       "    <tr>\n",
       "      <th>0</th>\n",
       "      <td>5.1</td>\n",
       "      <td>3.5</td>\n",
       "      <td>1.4</td>\n",
       "      <td>0.2</td>\n",
       "    </tr>\n",
       "    <tr>\n",
       "      <th>1</th>\n",
       "      <td>4.9</td>\n",
       "      <td>3.0</td>\n",
       "      <td>1.4</td>\n",
       "      <td>0.2</td>\n",
       "    </tr>\n",
       "    <tr>\n",
       "      <th>2</th>\n",
       "      <td>4.7</td>\n",
       "      <td>3.2</td>\n",
       "      <td>1.3</td>\n",
       "      <td>0.2</td>\n",
       "    </tr>\n",
       "    <tr>\n",
       "      <th>3</th>\n",
       "      <td>4.6</td>\n",
       "      <td>3.1</td>\n",
       "      <td>1.5</td>\n",
       "      <td>0.2</td>\n",
       "    </tr>\n",
       "    <tr>\n",
       "      <th>4</th>\n",
       "      <td>5.0</td>\n",
       "      <td>3.6</td>\n",
       "      <td>1.4</td>\n",
       "      <td>0.2</td>\n",
       "    </tr>\n",
       "    <tr>\n",
       "      <th>...</th>\n",
       "      <td>...</td>\n",
       "      <td>...</td>\n",
       "      <td>...</td>\n",
       "      <td>...</td>\n",
       "    </tr>\n",
       "    <tr>\n",
       "      <th>145</th>\n",
       "      <td>6.7</td>\n",
       "      <td>3.0</td>\n",
       "      <td>5.2</td>\n",
       "      <td>2.3</td>\n",
       "    </tr>\n",
       "    <tr>\n",
       "      <th>146</th>\n",
       "      <td>6.3</td>\n",
       "      <td>2.5</td>\n",
       "      <td>5.0</td>\n",
       "      <td>1.9</td>\n",
       "    </tr>\n",
       "    <tr>\n",
       "      <th>147</th>\n",
       "      <td>6.5</td>\n",
       "      <td>3.0</td>\n",
       "      <td>5.2</td>\n",
       "      <td>2.0</td>\n",
       "    </tr>\n",
       "    <tr>\n",
       "      <th>148</th>\n",
       "      <td>6.2</td>\n",
       "      <td>3.4</td>\n",
       "      <td>5.4</td>\n",
       "      <td>2.3</td>\n",
       "    </tr>\n",
       "    <tr>\n",
       "      <th>149</th>\n",
       "      <td>5.9</td>\n",
       "      <td>3.0</td>\n",
       "      <td>5.1</td>\n",
       "      <td>1.8</td>\n",
       "    </tr>\n",
       "  </tbody>\n",
       "</table>\n",
       "<p>150 rows × 4 columns</p>\n",
       "</div>"
      ],
      "text/plain": [
       "     sepal length (cm)  sepal width (cm)  petal length (cm)  petal width (cm)\n",
       "0                  5.1               3.5                1.4               0.2\n",
       "1                  4.9               3.0                1.4               0.2\n",
       "2                  4.7               3.2                1.3               0.2\n",
       "3                  4.6               3.1                1.5               0.2\n",
       "4                  5.0               3.6                1.4               0.2\n",
       "..                 ...               ...                ...               ...\n",
       "145                6.7               3.0                5.2               2.3\n",
       "146                6.3               2.5                5.0               1.9\n",
       "147                6.5               3.0                5.2               2.0\n",
       "148                6.2               3.4                5.4               2.3\n",
       "149                5.9               3.0                5.1               1.8\n",
       "\n",
       "[150 rows x 4 columns]"
      ]
     },
     "execution_count": 19,
     "metadata": {},
     "output_type": "execute_result"
    }
   ],
   "source": [
    "# Using only the feature columns\n",
    "# X = iris_df.drop(columns=['species'])  # if your dataset contained the species column\n",
    "X = iris_df \n",
    "\n",
    "X"
   ]
  },
  {
   "cell_type": "code",
   "execution_count": 20,
   "metadata": {},
   "outputs": [
    {
     "data": {
      "text/plain": [
       "array([[1.01000000e+02, 1.42000000e+02, 0.00000000e+00, 2.00000000e+00],\n",
       "       [7.00000000e+00, 3.90000000e+01, 1.00000000e-01, 2.00000000e+00],\n",
       "       [0.00000000e+00, 1.70000000e+01, 1.00000000e-01, 2.00000000e+00],\n",
       "       [9.00000000e+00, 3.40000000e+01, 1.00000000e-01, 2.00000000e+00],\n",
       "       [1.28000000e+02, 1.32000000e+02, 1.00000000e-01, 2.00000000e+00],\n",
       "       [1.00000000e+01, 4.80000000e+01, 1.00000000e-01, 2.00000000e+00],\n",
       "       [4.00000000e+00, 3.70000000e+01, 1.41421356e-01, 2.00000000e+00],\n",
       "       [1.90000000e+01, 2.10000000e+01, 1.41421356e-01, 2.00000000e+00],\n",
       "       [2.90000000e+01, 3.00000000e+01, 1.41421356e-01, 2.00000000e+00],\n",
       "       [5.70000000e+01, 9.30000000e+01, 1.41421356e-01, 2.00000000e+00],\n",
       "       [8.00000000e+01, 8.10000000e+01, 1.41421356e-01, 2.00000000e+00],\n",
       "       [1.16000000e+02, 1.37000000e+02, 1.41421356e-01, 2.00000000e+00],\n",
       "       [8.00000000e+00, 3.80000000e+01, 1.41421356e-01, 2.00000000e+00],\n",
       "       [3.00000000e+00, 4.70000000e+01, 1.41421356e-01, 2.00000000e+00],\n",
       "       [2.70000000e+01, 2.80000000e+01, 1.41421356e-01, 2.00000000e+00],\n",
       "       [8.20000000e+01, 9.20000000e+01, 1.41421356e-01, 2.00000000e+00],\n",
       "       [9.50000000e+01, 9.60000000e+01, 1.41421356e-01, 2.00000000e+00],\n",
       "       [1.27000000e+02, 1.38000000e+02, 1.41421356e-01, 2.00000000e+00],\n",
       "       [1.00000000e+00, 4.50000000e+01, 1.41421356e-01, 2.00000000e+00],\n",
       "       [6.30000000e+01, 9.10000000e+01, 1.41421356e-01, 2.00000000e+00],\n",
       "       [6.50000000e+01, 7.50000000e+01, 1.41421356e-01, 2.00000000e+00],\n",
       "       [4.00000000e+01, 1.52000000e+02, 1.73205081e-01, 3.00000000e+00],\n",
       "       [1.23000000e+02, 1.26000000e+02, 1.73205081e-01, 2.00000000e+00],\n",
       "       [4.90000000e+01, 1.51000000e+02, 1.73205081e-01, 3.00000000e+00],\n",
       "       [1.12000000e+02, 1.39000000e+02, 1.73205081e-01, 2.00000000e+00],\n",
       "       [9.40000000e+01, 9.90000000e+01, 1.73205081e-01, 2.00000000e+00],\n",
       "       [1.20000000e+01, 1.68000000e+02, 1.82574186e-01, 3.00000000e+00],\n",
       "       [8.80000000e+01, 1.66000000e+02, 1.82574186e-01, 3.00000000e+00],\n",
       "       [6.60000000e+01, 8.40000000e+01, 2.00000000e-01, 2.00000000e+00],\n",
       "       [2.30000000e+01, 2.60000000e+01, 2.00000000e-01, 2.00000000e+00],\n",
       "       [5.30000000e+01, 8.90000000e+01, 2.00000000e-01, 2.00000000e+00],\n",
       "       [7.40000000e+01, 9.70000000e+01, 2.00000000e-01, 2.00000000e+00],\n",
       "       [2.50000000e+01, 1.53000000e+02, 2.08166600e-01, 3.00000000e+00],\n",
       "       [4.60000000e+01, 1.57000000e+02, 2.16024690e-01, 3.00000000e+00],\n",
       "       [2.00000000e+00, 1.63000000e+02, 2.16024690e-01, 3.00000000e+00],\n",
       "       [1.10000000e+02, 1.47000000e+02, 2.23606798e-01, 2.00000000e+00],\n",
       "       [1.20000000e+02, 1.43000000e+02, 2.23606798e-01, 2.00000000e+00],\n",
       "       [1.36000000e+02, 1.48000000e+02, 2.44948974e-01, 2.00000000e+00],\n",
       "       [7.80000000e+01, 1.69000000e+02, 2.44948974e-01, 3.00000000e+00],\n",
       "       [6.90000000e+01, 1.60000000e+02, 2.44948974e-01, 3.00000000e+00],\n",
       "       [5.40000000e+01, 5.80000000e+01, 2.44948974e-01, 2.00000000e+00],\n",
       "       [1.40000000e+02, 1.44000000e+02, 2.44948974e-01, 2.00000000e+00],\n",
       "       [1.41000000e+02, 1.45000000e+02, 2.44948974e-01, 2.00000000e+00],\n",
       "       [4.30000000e+01, 1.79000000e+02, 2.58198890e-01, 3.00000000e+00],\n",
       "       [6.80000000e+01, 8.70000000e+01, 2.64575131e-01, 2.00000000e+00],\n",
       "       [5.00000000e+01, 5.20000000e+01, 2.64575131e-01, 2.00000000e+00],\n",
       "       [5.10000000e+01, 5.60000000e+01, 2.64575131e-01, 2.00000000e+00],\n",
       "       [1.07000000e+02, 1.30000000e+02, 2.64575131e-01, 2.00000000e+00],\n",
       "       [1.05000000e+02, 1.22000000e+02, 2.64575131e-01, 2.00000000e+00],\n",
       "       [1.03000000e+02, 1.61000000e+02, 2.70801280e-01, 3.00000000e+00],\n",
       "       [1.64000000e+02, 1.71000000e+02, 2.75680975e-01, 5.00000000e+00],\n",
       "       [2.00000000e+01, 3.10000000e+01, 2.82842712e-01, 2.00000000e+00],\n",
       "       [1.10000000e+01, 1.58000000e+02, 2.94392029e-01, 3.00000000e+00],\n",
       "       [6.70000000e+01, 1.65000000e+02, 2.94392029e-01, 3.00000000e+00],\n",
       "       [7.00000000e+01, 1.67000000e+02, 2.94392029e-01, 3.00000000e+00],\n",
       "       [4.20000000e+01, 1.62000000e+02, 2.94392029e-01, 3.00000000e+00],\n",
       "       [1.13000000e+02, 1.50000000e+02, 3.05505046e-01, 3.00000000e+00],\n",
       "       [6.00000000e+00, 1.84000000e+02, 3.13581462e-01, 4.00000000e+00],\n",
       "       [1.73000000e+02, 2.00000000e+02, 3.14642654e-01, 8.00000000e+00],\n",
       "       [5.50000000e+01, 9.00000000e+01, 3.16227766e-01, 2.00000000e+00],\n",
       "       [1.76000000e+02, 1.82000000e+02, 3.16227766e-01, 6.00000000e+00],\n",
       "       [8.60000000e+01, 1.95000000e+02, 3.21455025e-01, 3.00000000e+00],\n",
       "       [1.24000000e+02, 1.86000000e+02, 3.31662479e-01, 3.00000000e+00],\n",
       "       [8.30000000e+01, 1.33000000e+02, 3.31662479e-01, 2.00000000e+00],\n",
       "       [5.00000000e+00, 1.80000000e+01, 3.31662479e-01, 2.00000000e+00],\n",
       "       [1.30000000e+01, 2.05000000e+02, 3.36650165e-01, 4.00000000e+00],\n",
       "       [1.75000000e+02, 1.77000000e+02, 3.41565026e-01, 5.00000000e+00],\n",
       "       [3.20000000e+01, 3.30000000e+01, 3.46410162e-01, 2.00000000e+00],\n",
       "       [1.25000000e+02, 1.29000000e+02, 3.46410162e-01, 2.00000000e+00],\n",
       "       [1.04000000e+02, 1.54000000e+02, 3.51188458e-01, 3.00000000e+00],\n",
       "       [7.30000000e+01, 1.88000000e+02, 3.53553391e-01, 4.00000000e+00],\n",
       "       [1.49000000e+02, 2.04000000e+02, 3.58236421e-01, 4.00000000e+00],\n",
       "       [1.46000000e+02, 1.72000000e+02, 3.60555128e-01, 3.00000000e+00],\n",
       "       [1.21000000e+02, 2.06000000e+02, 3.62859018e-01, 4.00000000e+00],\n",
       "       [3.60000000e+01, 1.55000000e+02, 3.69684550e-01, 3.00000000e+00],\n",
       "       [7.60000000e+01, 1.90000000e+02, 3.74165739e-01, 3.00000000e+00],\n",
       "       [1.15000000e+02, 1.87000000e+02, 3.74165739e-01, 3.00000000e+00],\n",
       "       [6.10000000e+01, 7.10000000e+01, 4.00000000e-01, 2.00000000e+00],\n",
       "       [1.56000000e+02, 2.08000000e+02, 4.06201920e-01, 1.00000000e+01],\n",
       "       [7.20000000e+01, 2.13000000e+02, 4.12310563e-01, 3.00000000e+00],\n",
       "       [1.17000000e+02, 1.31000000e+02, 4.12310563e-01, 2.00000000e+00],\n",
       "       [1.91000000e+02, 2.12000000e+02, 4.14728827e-01, 5.00000000e+00],\n",
       "       [2.40000000e+01, 2.02000000e+02, 4.22295315e-01, 4.00000000e+00],\n",
       "       [9.80000000e+01, 1.59000000e+02, 4.39696865e-01, 3.00000000e+00],\n",
       "       [1.60000000e+01, 2.24000000e+02, 4.39696865e-01, 4.00000000e+00],\n",
       "       [3.50000000e+01, 2.10000000e+02, 4.39696865e-01, 7.00000000e+00],\n",
       "       [6.40000000e+01, 7.90000000e+01, 4.47213595e-01, 2.00000000e+00],\n",
       "       [8.50000000e+01, 1.96000000e+02, 4.58257569e-01, 3.00000000e+00],\n",
       "       [7.70000000e+01, 1.85000000e+02, 4.65474668e-01, 3.00000000e+00],\n",
       "       [4.40000000e+01, 1.83000000e+02, 4.67261526e-01, 4.00000000e+00],\n",
       "       [1.11000000e+02, 1.99000000e+02, 4.81317636e-01, 4.00000000e+00],\n",
       "       [1.80000000e+02, 1.89000000e+02, 4.81663783e-01, 5.00000000e+00],\n",
       "       [1.02000000e+02, 2.18000000e+02, 4.89897949e-01, 3.00000000e+00],\n",
       "       [1.74000000e+02, 1.92000000e+02, 5.14781507e-01, 4.00000000e+00],\n",
       "       [1.81000000e+02, 2.27000000e+02, 5.29150262e-01, 4.00000000e+00],\n",
       "       [1.70000000e+02, 2.25000000e+02, 5.32916504e-01, 5.00000000e+00],\n",
       "       [1.18000000e+02, 1.98000000e+02, 5.38516481e-01, 3.00000000e+00],\n",
       "       [1.40000000e+01, 1.50000000e+01, 5.47722558e-01, 2.00000000e+00],\n",
       "       [1.78000000e+02, 2.09000000e+02, 5.74456265e-01, 4.00000000e+00],\n",
       "       [2.22000000e+02, 2.29000000e+02, 5.80229840e-01, 6.00000000e+00],\n",
       "       [2.01000000e+02, 2.34000000e+02, 5.94418483e-01, 6.00000000e+00],\n",
       "       [1.14000000e+02, 2.23000000e+02, 6.05805249e-01, 5.00000000e+00],\n",
       "       [6.00000000e+01, 2.33000000e+02, 6.13731755e-01, 4.00000000e+00],\n",
       "       [2.17000000e+02, 2.47000000e+02, 6.24499800e-01, 4.00000000e+00],\n",
       "       [5.90000000e+01, 2.41000000e+02, 6.30872412e-01, 6.00000000e+00],\n",
       "       [2.07000000e+02, 2.32000000e+02, 6.36396103e-01, 8.00000000e+00],\n",
       "       [1.97000000e+02, 2.42000000e+02, 6.40312424e-01, 5.00000000e+00],\n",
       "       [6.20000000e+01, 2.03000000e+02, 6.42910051e-01, 4.00000000e+00],\n",
       "       [2.14000000e+02, 2.50000000e+02, 6.62696512e-01, 8.00000000e+00],\n",
       "       [1.19000000e+02, 1.94000000e+02, 7.09459888e-01, 3.00000000e+00],\n",
       "       [1.00000000e+02, 2.26000000e+02, 7.24568837e-01, 4.00000000e+00],\n",
       "       [1.08000000e+02, 2.19000000e+02, 7.32575366e-01, 4.00000000e+00],\n",
       "       [2.16000000e+02, 2.48000000e+02, 7.34090518e-01, 9.00000000e+00],\n",
       "       [2.11000000e+02, 2.45000000e+02, 7.34960316e-01, 8.00000000e+00],\n",
       "       [2.40000000e+02, 2.61000000e+02, 7.63216876e-01, 8.00000000e+00],\n",
       "       [1.93000000e+02, 2.39000000e+02, 7.76285416e-01, 7.00000000e+00],\n",
       "       [1.09000000e+02, 1.35000000e+02, 8.06225775e-01, 2.00000000e+00],\n",
       "       [2.35000000e+02, 2.55000000e+02, 8.18738868e-01, 1.50000000e+01],\n",
       "       [2.38000000e+02, 2.43000000e+02, 8.21873585e-01, 7.00000000e+00],\n",
       "       [2.36000000e+02, 2.54000000e+02, 8.26135582e-01, 8.00000000e+00],\n",
       "       [2.20000000e+01, 2.15000000e+02, 8.55569985e-01, 5.00000000e+00],\n",
       "       [2.20000000e+02, 2.44000000e+02, 8.64580823e-01, 8.00000000e+00],\n",
       "       [2.28000000e+02, 2.65000000e+02, 9.09981993e-01, 1.70000000e+01],\n",
       "       [2.57000000e+02, 2.69000000e+02, 9.28708781e-01, 1.20000000e+01],\n",
       "       [1.34000000e+02, 2.49000000e+02, 9.29157324e-01, 7.00000000e+00],\n",
       "       [2.21000000e+02, 2.37000000e+02, 1.00534287e+00, 7.00000000e+00],\n",
       "       [2.31000000e+02, 2.60000000e+02, 1.04705937e+00, 9.00000000e+00],\n",
       "       [4.10000000e+01, 2.70000000e+02, 1.10513951e+00, 6.00000000e+00],\n",
       "       [2.30000000e+02, 2.66000000e+02, 1.15325626e+00, 4.00000000e+00],\n",
       "       [1.06000000e+02, 2.62000000e+02, 1.21700908e+00, 1.00000000e+01],\n",
       "       [2.53000000e+02, 2.58000000e+02, 1.25399362e+00, 1.20000000e+01],\n",
       "       [2.59000000e+02, 2.74000000e+02, 1.30486270e+00, 1.00000000e+01],\n",
       "       [2.67000000e+02, 2.77000000e+02, 1.37126983e+00, 2.10000000e+01],\n",
       "       [2.64000000e+02, 2.68000000e+02, 1.41139074e+00, 1.50000000e+01],\n",
       "       [2.71000000e+02, 2.75000000e+02, 1.49547731e+00, 1.50000000e+01],\n",
       "       [2.46000000e+02, 2.78000000e+02, 1.59776630e+00, 7.00000000e+00],\n",
       "       [2.51000000e+02, 2.81000000e+02, 1.75916647e+00, 1.50000000e+01],\n",
       "       [2.76000000e+02, 2.83000000e+02, 1.76044502e+00, 2.40000000e+01],\n",
       "       [2.56000000e+02, 2.85000000e+02, 1.84584475e+00, 1.20000000e+01],\n",
       "       [2.73000000e+02, 2.79000000e+02, 1.91608028e+00, 2.20000000e+01],\n",
       "       [2.72000000e+02, 2.80000000e+02, 1.91875287e+00, 2.90000000e+01],\n",
       "       [2.63000000e+02, 2.84000000e+02, 2.05363058e+00, 2.30000000e+01],\n",
       "       [2.52000000e+02, 2.89000000e+02, 2.81393883e+00, 2.60000000e+01],\n",
       "       [2.86000000e+02, 2.91000000e+02, 2.86941764e+00, 3.80000000e+01],\n",
       "       [2.82000000e+02, 2.90000000e+02, 3.82805262e+00, 5.00000000e+01],\n",
       "       [2.87000000e+02, 2.88000000e+02, 4.84770851e+00, 3.60000000e+01],\n",
       "       [2.92000000e+02, 2.93000000e+02, 6.39940682e+00, 6.40000000e+01],\n",
       "       [2.95000000e+02, 2.96000000e+02, 1.23003961e+01, 1.00000000e+02],\n",
       "       [2.94000000e+02, 2.97000000e+02, 3.24476070e+01, 1.50000000e+02]])"
      ]
     },
     "execution_count": 20,
     "metadata": {},
     "output_type": "execute_result"
    }
   ],
   "source": [
    "# Use the 'ward' method again for hierarchical clustering\n",
    "Z = linkage(X, 'ward')\n",
    "\n",
    "Z"
   ]
  },
  {
   "cell_type": "markdown",
   "metadata": {},
   "source": [
    "### Extract and Prepare Species Labels for Dendrogram"
   ]
  },
  {
   "cell_type": "code",
   "execution_count": 21,
   "metadata": {},
   "outputs": [
    {
     "data": {
      "text/plain": [
       "['setosa',\n",
       " 'setosa',\n",
       " 'setosa',\n",
       " 'setosa',\n",
       " 'setosa',\n",
       " 'setosa',\n",
       " 'setosa',\n",
       " 'setosa',\n",
       " 'setosa',\n",
       " 'setosa',\n",
       " 'setosa',\n",
       " 'setosa',\n",
       " 'setosa',\n",
       " 'setosa',\n",
       " 'setosa',\n",
       " 'setosa',\n",
       " 'setosa',\n",
       " 'setosa',\n",
       " 'setosa',\n",
       " 'setosa',\n",
       " 'setosa',\n",
       " 'setosa',\n",
       " 'setosa',\n",
       " 'setosa',\n",
       " 'setosa',\n",
       " 'setosa',\n",
       " 'setosa',\n",
       " 'setosa',\n",
       " 'setosa',\n",
       " 'setosa',\n",
       " 'setosa',\n",
       " 'setosa',\n",
       " 'setosa',\n",
       " 'setosa',\n",
       " 'setosa',\n",
       " 'setosa',\n",
       " 'setosa',\n",
       " 'setosa',\n",
       " 'setosa',\n",
       " 'setosa',\n",
       " 'setosa',\n",
       " 'setosa',\n",
       " 'setosa',\n",
       " 'setosa',\n",
       " 'setosa',\n",
       " 'setosa',\n",
       " 'setosa',\n",
       " 'setosa',\n",
       " 'setosa',\n",
       " 'setosa',\n",
       " 'versicolor',\n",
       " 'versicolor',\n",
       " 'versicolor',\n",
       " 'versicolor',\n",
       " 'versicolor',\n",
       " 'versicolor',\n",
       " 'versicolor',\n",
       " 'versicolor',\n",
       " 'versicolor',\n",
       " 'versicolor',\n",
       " 'versicolor',\n",
       " 'versicolor',\n",
       " 'versicolor',\n",
       " 'versicolor',\n",
       " 'versicolor',\n",
       " 'versicolor',\n",
       " 'versicolor',\n",
       " 'versicolor',\n",
       " 'versicolor',\n",
       " 'versicolor',\n",
       " 'versicolor',\n",
       " 'versicolor',\n",
       " 'versicolor',\n",
       " 'versicolor',\n",
       " 'versicolor',\n",
       " 'versicolor',\n",
       " 'versicolor',\n",
       " 'versicolor',\n",
       " 'versicolor',\n",
       " 'versicolor',\n",
       " 'versicolor',\n",
       " 'versicolor',\n",
       " 'versicolor',\n",
       " 'versicolor',\n",
       " 'versicolor',\n",
       " 'versicolor',\n",
       " 'versicolor',\n",
       " 'versicolor',\n",
       " 'versicolor',\n",
       " 'versicolor',\n",
       " 'versicolor',\n",
       " 'versicolor',\n",
       " 'versicolor',\n",
       " 'versicolor',\n",
       " 'versicolor',\n",
       " 'versicolor',\n",
       " 'versicolor',\n",
       " 'versicolor',\n",
       " 'versicolor',\n",
       " 'versicolor',\n",
       " 'virginica',\n",
       " 'virginica',\n",
       " 'virginica',\n",
       " 'virginica',\n",
       " 'virginica',\n",
       " 'virginica',\n",
       " 'virginica',\n",
       " 'virginica',\n",
       " 'virginica',\n",
       " 'virginica',\n",
       " 'virginica',\n",
       " 'virginica',\n",
       " 'virginica',\n",
       " 'virginica',\n",
       " 'virginica',\n",
       " 'virginica',\n",
       " 'virginica',\n",
       " 'virginica',\n",
       " 'virginica',\n",
       " 'virginica',\n",
       " 'virginica',\n",
       " 'virginica',\n",
       " 'virginica',\n",
       " 'virginica',\n",
       " 'virginica',\n",
       " 'virginica',\n",
       " 'virginica',\n",
       " 'virginica',\n",
       " 'virginica',\n",
       " 'virginica',\n",
       " 'virginica',\n",
       " 'virginica',\n",
       " 'virginica',\n",
       " 'virginica',\n",
       " 'virginica',\n",
       " 'virginica',\n",
       " 'virginica',\n",
       " 'virginica',\n",
       " 'virginica',\n",
       " 'virginica',\n",
       " 'virginica',\n",
       " 'virginica',\n",
       " 'virginica',\n",
       " 'virginica',\n",
       " 'virginica',\n",
       " 'virginica',\n",
       " 'virginica',\n",
       " 'virginica',\n",
       " 'virginica',\n",
       " 'virginica']"
      ]
     },
     "execution_count": 21,
     "metadata": {},
     "output_type": "execute_result"
    }
   ],
   "source": [
    "# This line gets an array of species labels from my original dataset from Kaggle\n",
    "#species_labels = iris_df['species'].values\n",
    "\n",
    "# Here we create a list of species labels from the version of the data from sklearn\n",
    "species = ['setosa', 'versicolor', 'virginica']\n",
    "species_labels = [species[i] for i in species_array]\n",
    "species_labels"
   ]
  },
  {
   "cell_type": "markdown",
   "metadata": {},
   "source": [
    "### Display Dendrogram with Species Labels"
   ]
  },
  {
   "cell_type": "code",
   "execution_count": 22,
   "metadata": {},
   "outputs": [
    {
     "data": {
      "text/plain": [
       "Text(0.5, 1.0, 'Iris Hierarchical Clustering Dendrogram')"
      ]
     },
     "execution_count": 22,
     "metadata": {},
     "output_type": "execute_result"
    },
    {
     "data": {
      "image/png": "[encoded data removed]",
      "text/plain": [
       "<Figure size 800x2000 with 1 Axes>"
      ]
     },
     "metadata": {},
     "output_type": "display_data"
    }
   ],
   "source": [
    "plt.figure(figsize=(8, 20))\n",
    "dendrogram(Z,\n",
    "           labels=species_labels,\n",
    "           orientation='left')\n",
    "plt.title(\"Iris Hierarchical Clustering Dendrogram\")"
   ]
  },
  {
   "cell_type": "markdown",
   "metadata": {},
   "source": [
    "## Try to achieve better separation of the species\n",
    "Looking at the dendrogram above, iris-setosa looks well separated, but iris-virginica and iris-versicolor look a bit more mixed. We will try to achieve better separation by normalizing. The goal is to ensure that each feature contributes equally to the distance computations used in clustering. Without normalization, features with larger numerical ranges can disproportionately influence the distance calculations."
   ]
  },
  {
   "cell_type": "markdown",
   "metadata": {},
   "source": [
    "### Standardization vs. Normalization\n",
    "Standardization (Z-score normalization) scales the features so they have the properties of a standard normal distribution with a mean of 0 and a standard deviation of 1.\n",
    "\n",
    "Normalization (Min-Max scaling) scales and shifts the features so that they range from 0 to 1. You can also scale them to any other specific range.\n",
    "Both methods can be effective, but standardization is less affected by outliers and is generally preferred for clustering.\n",
    "\n",
    "We will use Scikit-Learn to perform standardization and then see if that gives a better clustering."
   ]
  },
  {
   "cell_type": "code",
   "execution_count": 23,
   "metadata": {},
   "outputs": [],
   "source": [
    "from sklearn.preprocessing import StandardScaler"
   ]
  },
  {
   "cell_type": "markdown",
   "metadata": {},
   "source": [
    "### Apply standardization"
   ]
  },
  {
   "cell_type": "code",
   "execution_count": 24,
   "metadata": {},
   "outputs": [],
   "source": [
    "scaler = StandardScaler()\n",
    "X_scaled = scaler.fit_transform(X)"
   ]
  },
  {
   "cell_type": "code",
   "execution_count": 25,
   "metadata": {},
   "outputs": [
    {
     "data": {
      "text/plain": [
       "array([[-9.00681170e-01,  1.01900435e+00, -1.34022653e+00,\n",
       "        -1.31544430e+00],\n",
       "       [-1.14301691e+00, -1.31979479e-01, -1.34022653e+00,\n",
       "        -1.31544430e+00],\n",
       "       [-1.38535265e+00,  3.28414053e-01, -1.39706395e+00,\n",
       "        -1.31544430e+00],\n",
       "       [-1.50652052e+00,  9.82172869e-02, -1.28338910e+00,\n",
       "        -1.31544430e+00],\n",
       "       [-1.02184904e+00,  1.24920112e+00, -1.34022653e+00,\n",
       "        -1.31544430e+00],\n",
       "       [-5.37177559e-01,  1.93979142e+00, -1.16971425e+00,\n",
       "        -1.05217993e+00],\n",
       "       [-1.50652052e+00,  7.88807586e-01, -1.34022653e+00,\n",
       "        -1.18381211e+00],\n",
       "       [-1.02184904e+00,  7.88807586e-01, -1.28338910e+00,\n",
       "        -1.31544430e+00],\n",
       "       [-1.74885626e+00, -3.62176246e-01, -1.34022653e+00,\n",
       "        -1.31544430e+00],\n",
       "       [-1.14301691e+00,  9.82172869e-02, -1.28338910e+00,\n",
       "        -1.44707648e+00],\n",
       "       [-5.37177559e-01,  1.47939788e+00, -1.28338910e+00,\n",
       "        -1.31544430e+00],\n",
       "       [-1.26418478e+00,  7.88807586e-01, -1.22655167e+00,\n",
       "        -1.31544430e+00],\n",
       "       [-1.26418478e+00, -1.31979479e-01, -1.34022653e+00,\n",
       "        -1.44707648e+00],\n",
       "       [-1.87002413e+00, -1.31979479e-01, -1.51073881e+00,\n",
       "        -1.44707648e+00],\n",
       "       [-5.25060772e-02,  2.16998818e+00, -1.45390138e+00,\n",
       "        -1.31544430e+00],\n",
       "       [-1.73673948e-01,  3.09077525e+00, -1.28338910e+00,\n",
       "        -1.05217993e+00],\n",
       "       [-5.37177559e-01,  1.93979142e+00, -1.39706395e+00,\n",
       "        -1.05217993e+00],\n",
       "       [-9.00681170e-01,  1.01900435e+00, -1.34022653e+00,\n",
       "        -1.18381211e+00],\n",
       "       [-1.73673948e-01,  1.70959465e+00, -1.16971425e+00,\n",
       "        -1.18381211e+00],\n",
       "       [-9.00681170e-01,  1.70959465e+00, -1.28338910e+00,\n",
       "        -1.18381211e+00],\n",
       "       [-5.37177559e-01,  7.88807586e-01, -1.16971425e+00,\n",
       "        -1.31544430e+00],\n",
       "       [-9.00681170e-01,  1.47939788e+00, -1.28338910e+00,\n",
       "        -1.05217993e+00],\n",
       "       [-1.50652052e+00,  1.24920112e+00, -1.56757623e+00,\n",
       "        -1.31544430e+00],\n",
       "       [-9.00681170e-01,  5.58610819e-01, -1.16971425e+00,\n",
       "        -9.20547742e-01],\n",
       "       [-1.26418478e+00,  7.88807586e-01, -1.05603939e+00,\n",
       "        -1.31544430e+00],\n",
       "       [-1.02184904e+00, -1.31979479e-01, -1.22655167e+00,\n",
       "        -1.31544430e+00],\n",
       "       [-1.02184904e+00,  7.88807586e-01, -1.22655167e+00,\n",
       "        -1.05217993e+00],\n",
       "       [-7.79513300e-01,  1.01900435e+00, -1.28338910e+00,\n",
       "        -1.31544430e+00],\n",
       "       [-7.79513300e-01,  7.88807586e-01, -1.34022653e+00,\n",
       "        -1.31544430e+00],\n",
       "       [-1.38535265e+00,  3.28414053e-01, -1.22655167e+00,\n",
       "        -1.31544430e+00],\n",
       "       [-1.26418478e+00,  9.82172869e-02, -1.22655167e+00,\n",
       "        -1.31544430e+00],\n",
       "       [-5.37177559e-01,  7.88807586e-01, -1.28338910e+00,\n",
       "        -1.05217993e+00],\n",
       "       [-7.79513300e-01,  2.40018495e+00, -1.28338910e+00,\n",
       "        -1.44707648e+00],\n",
       "       [-4.16009689e-01,  2.63038172e+00, -1.34022653e+00,\n",
       "        -1.31544430e+00],\n",
       "       [-1.14301691e+00,  9.82172869e-02, -1.28338910e+00,\n",
       "        -1.31544430e+00],\n",
       "       [-1.02184904e+00,  3.28414053e-01, -1.45390138e+00,\n",
       "        -1.31544430e+00],\n",
       "       [-4.16009689e-01,  1.01900435e+00, -1.39706395e+00,\n",
       "        -1.31544430e+00],\n",
       "       [-1.14301691e+00,  1.24920112e+00, -1.34022653e+00,\n",
       "        -1.44707648e+00],\n",
       "       [-1.74885626e+00, -1.31979479e-01, -1.39706395e+00,\n",
       "        -1.31544430e+00],\n",
       "       [-9.00681170e-01,  7.88807586e-01, -1.28338910e+00,\n",
       "        -1.31544430e+00],\n",
       "       [-1.02184904e+00,  1.01900435e+00, -1.39706395e+00,\n",
       "        -1.18381211e+00],\n",
       "       [-1.62768839e+00, -1.74335684e+00, -1.39706395e+00,\n",
       "        -1.18381211e+00],\n",
       "       [-1.74885626e+00,  3.28414053e-01, -1.39706395e+00,\n",
       "        -1.31544430e+00],\n",
       "       [-1.02184904e+00,  1.01900435e+00, -1.22655167e+00,\n",
       "        -7.88915558e-01],\n",
       "       [-9.00681170e-01,  1.70959465e+00, -1.05603939e+00,\n",
       "        -1.05217993e+00],\n",
       "       [-1.26418478e+00, -1.31979479e-01, -1.34022653e+00,\n",
       "        -1.18381211e+00],\n",
       "       [-9.00681170e-01,  1.70959465e+00, -1.22655167e+00,\n",
       "        -1.31544430e+00],\n",
       "       [-1.50652052e+00,  3.28414053e-01, -1.34022653e+00,\n",
       "        -1.31544430e+00],\n",
       "       [-6.58345429e-01,  1.47939788e+00, -1.28338910e+00,\n",
       "        -1.31544430e+00],\n",
       "       [-1.02184904e+00,  5.58610819e-01, -1.34022653e+00,\n",
       "        -1.31544430e+00],\n",
       "       [ 1.40150837e+00,  3.28414053e-01,  5.35408562e-01,\n",
       "         2.64141916e-01],\n",
       "       [ 6.74501145e-01,  3.28414053e-01,  4.21733708e-01,\n",
       "         3.95774101e-01],\n",
       "       [ 1.28034050e+00,  9.82172869e-02,  6.49083415e-01,\n",
       "         3.95774101e-01],\n",
       "       [-4.16009689e-01, -1.74335684e+00,  1.37546573e-01,\n",
       "         1.32509732e-01],\n",
       "       [ 7.95669016e-01, -5.92373012e-01,  4.78571135e-01,\n",
       "         3.95774101e-01],\n",
       "       [-1.73673948e-01, -5.92373012e-01,  4.21733708e-01,\n",
       "         1.32509732e-01],\n",
       "       [ 5.53333275e-01,  5.58610819e-01,  5.35408562e-01,\n",
       "         5.27406285e-01],\n",
       "       [-1.14301691e+00, -1.51316008e+00, -2.60315415e-01,\n",
       "        -2.62386821e-01],\n",
       "       [ 9.16836886e-01, -3.62176246e-01,  4.78571135e-01,\n",
       "         1.32509732e-01],\n",
       "       [-7.79513300e-01, -8.22569778e-01,  8.07091462e-02,\n",
       "         2.64141916e-01],\n",
       "       [-1.02184904e+00, -2.43394714e+00, -1.46640561e-01,\n",
       "        -2.62386821e-01],\n",
       "       [ 6.86617933e-02, -1.31979479e-01,  2.51221427e-01,\n",
       "         3.95774101e-01],\n",
       "       [ 1.89829664e-01, -1.97355361e+00,  1.37546573e-01,\n",
       "        -2.62386821e-01],\n",
       "       [ 3.10997534e-01, -3.62176246e-01,  5.35408562e-01,\n",
       "         2.64141916e-01],\n",
       "       [-2.94841818e-01, -3.62176246e-01, -8.98031345e-02,\n",
       "         1.32509732e-01],\n",
       "       [ 1.03800476e+00,  9.82172869e-02,  3.64896281e-01,\n",
       "         2.64141916e-01],\n",
       "       [-2.94841818e-01, -1.31979479e-01,  4.21733708e-01,\n",
       "         3.95774101e-01],\n",
       "       [-5.25060772e-02, -8.22569778e-01,  1.94384000e-01,\n",
       "        -2.62386821e-01],\n",
       "       [ 4.32165405e-01, -1.97355361e+00,  4.21733708e-01,\n",
       "         3.95774101e-01],\n",
       "       [-2.94841818e-01, -1.28296331e+00,  8.07091462e-02,\n",
       "        -1.30754636e-01],\n",
       "       [ 6.86617933e-02,  3.28414053e-01,  5.92245988e-01,\n",
       "         7.90670654e-01],\n",
       "       [ 3.10997534e-01, -5.92373012e-01,  1.37546573e-01,\n",
       "         1.32509732e-01],\n",
       "       [ 5.53333275e-01, -1.28296331e+00,  6.49083415e-01,\n",
       "         3.95774101e-01],\n",
       "       [ 3.10997534e-01, -5.92373012e-01,  5.35408562e-01,\n",
       "         8.77547895e-04],\n",
       "       [ 6.74501145e-01, -3.62176246e-01,  3.08058854e-01,\n",
       "         1.32509732e-01],\n",
       "       [ 9.16836886e-01, -1.31979479e-01,  3.64896281e-01,\n",
       "         2.64141916e-01],\n",
       "       [ 1.15917263e+00, -5.92373012e-01,  5.92245988e-01,\n",
       "         2.64141916e-01],\n",
       "       [ 1.03800476e+00, -1.31979479e-01,  7.05920842e-01,\n",
       "         6.59038469e-01],\n",
       "       [ 1.89829664e-01, -3.62176246e-01,  4.21733708e-01,\n",
       "         3.95774101e-01],\n",
       "       [-1.73673948e-01, -1.05276654e+00, -1.46640561e-01,\n",
       "        -2.62386821e-01],\n",
       "       [-4.16009689e-01, -1.51316008e+00,  2.38717193e-02,\n",
       "        -1.30754636e-01],\n",
       "       [-4.16009689e-01, -1.51316008e+00, -3.29657076e-02,\n",
       "        -2.62386821e-01],\n",
       "       [-5.25060772e-02, -8.22569778e-01,  8.07091462e-02,\n",
       "         8.77547895e-04],\n",
       "       [ 1.89829664e-01, -8.22569778e-01,  7.62758269e-01,\n",
       "         5.27406285e-01],\n",
       "       [-5.37177559e-01, -1.31979479e-01,  4.21733708e-01,\n",
       "         3.95774101e-01],\n",
       "       [ 1.89829664e-01,  7.88807586e-01,  4.21733708e-01,\n",
       "         5.27406285e-01],\n",
       "       [ 1.03800476e+00,  9.82172869e-02,  5.35408562e-01,\n",
       "         3.95774101e-01],\n",
       "       [ 5.53333275e-01, -1.74335684e+00,  3.64896281e-01,\n",
       "         1.32509732e-01],\n",
       "       [-2.94841818e-01, -1.31979479e-01,  1.94384000e-01,\n",
       "         1.32509732e-01],\n",
       "       [-4.16009689e-01, -1.28296331e+00,  1.37546573e-01,\n",
       "         1.32509732e-01],\n",
       "       [-4.16009689e-01, -1.05276654e+00,  3.64896281e-01,\n",
       "         8.77547895e-04],\n",
       "       [ 3.10997534e-01, -1.31979479e-01,  4.78571135e-01,\n",
       "         2.64141916e-01],\n",
       "       [-5.25060772e-02, -1.05276654e+00,  1.37546573e-01,\n",
       "         8.77547895e-04],\n",
       "       [-1.02184904e+00, -1.74335684e+00, -2.60315415e-01,\n",
       "        -2.62386821e-01],\n",
       "       [-2.94841818e-01, -8.22569778e-01,  2.51221427e-01,\n",
       "         1.32509732e-01],\n",
       "       [-1.73673948e-01, -1.31979479e-01,  2.51221427e-01,\n",
       "         8.77547895e-04],\n",
       "       [-1.73673948e-01, -3.62176246e-01,  2.51221427e-01,\n",
       "         1.32509732e-01],\n",
       "       [ 4.32165405e-01, -3.62176246e-01,  3.08058854e-01,\n",
       "         1.32509732e-01],\n",
       "       [-9.00681170e-01, -1.28296331e+00, -4.30827696e-01,\n",
       "        -1.30754636e-01],\n",
       "       [-1.73673948e-01, -5.92373012e-01,  1.94384000e-01,\n",
       "         1.32509732e-01],\n",
       "       [ 5.53333275e-01,  5.58610819e-01,  1.27429511e+00,\n",
       "         1.71209594e+00],\n",
       "       [-5.25060772e-02, -8.22569778e-01,  7.62758269e-01,\n",
       "         9.22302838e-01],\n",
       "       [ 1.52267624e+00, -1.31979479e-01,  1.21745768e+00,\n",
       "         1.18556721e+00],\n",
       "       [ 5.53333275e-01, -3.62176246e-01,  1.04694540e+00,\n",
       "         7.90670654e-01],\n",
       "       [ 7.95669016e-01, -1.31979479e-01,  1.16062026e+00,\n",
       "         1.31719939e+00],\n",
       "       [ 2.12851559e+00, -1.31979479e-01,  1.61531967e+00,\n",
       "         1.18556721e+00],\n",
       "       [-1.14301691e+00, -1.28296331e+00,  4.21733708e-01,\n",
       "         6.59038469e-01],\n",
       "       [ 1.76501198e+00, -3.62176246e-01,  1.44480739e+00,\n",
       "         7.90670654e-01],\n",
       "       [ 1.03800476e+00, -1.28296331e+00,  1.16062026e+00,\n",
       "         7.90670654e-01],\n",
       "       [ 1.64384411e+00,  1.24920112e+00,  1.33113254e+00,\n",
       "         1.71209594e+00],\n",
       "       [ 7.95669016e-01,  3.28414053e-01,  7.62758269e-01,\n",
       "         1.05393502e+00],\n",
       "       [ 6.74501145e-01, -8.22569778e-01,  8.76433123e-01,\n",
       "         9.22302838e-01],\n",
       "       [ 1.15917263e+00, -1.31979479e-01,  9.90107977e-01,\n",
       "         1.18556721e+00],\n",
       "       [-1.73673948e-01, -1.28296331e+00,  7.05920842e-01,\n",
       "         1.05393502e+00],\n",
       "       [-5.25060772e-02, -5.92373012e-01,  7.62758269e-01,\n",
       "         1.58046376e+00],\n",
       "       [ 6.74501145e-01,  3.28414053e-01,  8.76433123e-01,\n",
       "         1.44883158e+00],\n",
       "       [ 7.95669016e-01, -1.31979479e-01,  9.90107977e-01,\n",
       "         7.90670654e-01],\n",
       "       [ 2.24968346e+00,  1.70959465e+00,  1.67215710e+00,\n",
       "         1.31719939e+00],\n",
       "       [ 2.24968346e+00, -1.05276654e+00,  1.78583195e+00,\n",
       "         1.44883158e+00],\n",
       "       [ 1.89829664e-01, -1.97355361e+00,  7.05920842e-01,\n",
       "         3.95774101e-01],\n",
       "       [ 1.28034050e+00,  3.28414053e-01,  1.10378283e+00,\n",
       "         1.44883158e+00],\n",
       "       [-2.94841818e-01, -5.92373012e-01,  6.49083415e-01,\n",
       "         1.05393502e+00],\n",
       "       [ 2.24968346e+00, -5.92373012e-01,  1.67215710e+00,\n",
       "         1.05393502e+00],\n",
       "       [ 5.53333275e-01, -8.22569778e-01,  6.49083415e-01,\n",
       "         7.90670654e-01],\n",
       "       [ 1.03800476e+00,  5.58610819e-01,  1.10378283e+00,\n",
       "         1.18556721e+00],\n",
       "       [ 1.64384411e+00,  3.28414053e-01,  1.27429511e+00,\n",
       "         7.90670654e-01],\n",
       "       [ 4.32165405e-01, -5.92373012e-01,  5.92245988e-01,\n",
       "         7.90670654e-01],\n",
       "       [ 3.10997534e-01, -1.31979479e-01,  6.49083415e-01,\n",
       "         7.90670654e-01],\n",
       "       [ 6.74501145e-01, -5.92373012e-01,  1.04694540e+00,\n",
       "         1.18556721e+00],\n",
       "       [ 1.64384411e+00, -1.31979479e-01,  1.16062026e+00,\n",
       "         5.27406285e-01],\n",
       "       [ 1.88617985e+00, -5.92373012e-01,  1.33113254e+00,\n",
       "         9.22302838e-01],\n",
       "       [ 2.49201920e+00,  1.70959465e+00,  1.50164482e+00,\n",
       "         1.05393502e+00],\n",
       "       [ 6.74501145e-01, -5.92373012e-01,  1.04694540e+00,\n",
       "         1.31719939e+00],\n",
       "       [ 5.53333275e-01, -5.92373012e-01,  7.62758269e-01,\n",
       "         3.95774101e-01],\n",
       "       [ 3.10997534e-01, -1.05276654e+00,  1.04694540e+00,\n",
       "         2.64141916e-01],\n",
       "       [ 2.24968346e+00, -1.31979479e-01,  1.33113254e+00,\n",
       "         1.44883158e+00],\n",
       "       [ 5.53333275e-01,  7.88807586e-01,  1.04694540e+00,\n",
       "         1.58046376e+00],\n",
       "       [ 6.74501145e-01,  9.82172869e-02,  9.90107977e-01,\n",
       "         7.90670654e-01],\n",
       "       [ 1.89829664e-01, -1.31979479e-01,  5.92245988e-01,\n",
       "         7.90670654e-01],\n",
       "       [ 1.28034050e+00,  9.82172869e-02,  9.33270550e-01,\n",
       "         1.18556721e+00],\n",
       "       [ 1.03800476e+00,  9.82172869e-02,  1.04694540e+00,\n",
       "         1.58046376e+00],\n",
       "       [ 1.28034050e+00,  9.82172869e-02,  7.62758269e-01,\n",
       "         1.44883158e+00],\n",
       "       [-5.25060772e-02, -8.22569778e-01,  7.62758269e-01,\n",
       "         9.22302838e-01],\n",
       "       [ 1.15917263e+00,  3.28414053e-01,  1.21745768e+00,\n",
       "         1.44883158e+00],\n",
       "       [ 1.03800476e+00,  5.58610819e-01,  1.10378283e+00,\n",
       "         1.71209594e+00],\n",
       "       [ 1.03800476e+00, -1.31979479e-01,  8.19595696e-01,\n",
       "         1.44883158e+00],\n",
       "       [ 5.53333275e-01, -1.28296331e+00,  7.05920842e-01,\n",
       "         9.22302838e-01],\n",
       "       [ 7.95669016e-01, -1.31979479e-01,  8.19595696e-01,\n",
       "         1.05393502e+00],\n",
       "       [ 4.32165405e-01,  7.88807586e-01,  9.33270550e-01,\n",
       "         1.44883158e+00],\n",
       "       [ 6.86617933e-02, -1.31979479e-01,  7.62758269e-01,\n",
       "         7.90670654e-01]])"
      ]
     },
     "execution_count": 25,
     "metadata": {},
     "output_type": "execute_result"
    }
   ],
   "source": [
    "X_scaled"
   ]
  },
  {
   "cell_type": "markdown",
   "metadata": {},
   "source": [
    "### Perform hierarchical clustering on the scaled data"
   ]
  },
  {
   "cell_type": "code",
   "execution_count": 26,
   "metadata": {},
   "outputs": [],
   "source": [
    "Z_scaled = linkage(X_scaled, method='ward')\n",
    "# Z_scaled = linkage(X_scaled, method='complete')\n",
    "# Z_scaled = linkage(X_scaled, method='centroid')\n",
    "# Z_scaled = linkage(X_scaled, method='average')\n",
    "# Z_scaled = linkage(X_scaled, method='median')\n",
    "# Z_scaled = linkage(X_scaled, method='single')\n",
    "# Z_scaled = linkage(X_scaled, method='weighted')"
   ]
  },
  {
   "cell_type": "markdown",
   "metadata": {},
   "source": [
    "### Plot the dendrogram"
   ]
  },
  {
   "cell_type": "code",
   "execution_count": 27,
   "metadata": {},
   "outputs": [
    {
     "data": {
      "text/plain": [
       "Text(0.5, 1.0, 'Iris Hierarchical Clustering Dendrogram')"
      ]
     },
     "execution_count": 27,
     "metadata": {},
     "output_type": "execute_result"
    },
    {
     "data": {
      "image/png": "[encoded data removed]",
      "text/plain": [
       "<Figure size 800x2000 with 1 Axes>"
      ]
     },
     "metadata": {},
     "output_type": "display_data"
    }
   ],
   "source": [
    "plt.figure(figsize=(8, 20))\n",
    "dendrogram(Z_scaled,\n",
    "           labels=species_labels,\n",
    "           orientation='left')\n",
    "plt.title(\"Iris Hierarchical Clustering Dendrogram\")"
   ]
  },
  {
   "cell_type": "markdown",
   "metadata": {},
   "source": [
    "Did we achieve a better clustering that time? It's hard to tell just by eye-balling the dendrogram, but it doesn't look better to me. We can use the adjusted rand index (ARI) to compare our clusters with the original classes."
   ]
  },
  {
   "cell_type": "code",
   "execution_count": 28,
   "metadata": {},
   "outputs": [],
   "source": [
    "from sklearn.metrics import adjusted_rand_score"
   ]
  },
  {
   "cell_type": "markdown",
   "metadata": {},
   "source": [
    "Get the cluster labels for for the unscaled and scaled clusterings."
   ]
  },
  {
   "cell_type": "code",
   "execution_count": 29,
   "metadata": {},
   "outputs": [],
   "source": [
    "predicted_labels_unscaled = fcluster(Z, t=3, criterion='maxclust')\n",
    "predicted_labels_scaled = fcluster(Z_scaled, t=3, criterion='maxclust')"
   ]
  },
  {
   "cell_type": "markdown",
   "metadata": {},
   "source": [
    "Calculate ARI."
   ]
  },
  {
   "cell_type": "code",
   "execution_count": 30,
   "metadata": {},
   "outputs": [
    {
     "name": "stdout",
     "output_type": "stream",
     "text": [
      "Adjusted Rand Index for the unscaled dataset: 0.7311985567707746\n",
      "Adjusted Rand Index for the scaled dataset: 0.6153229932145449\n"
     ]
    }
   ],
   "source": [
    "ari_unscaled = adjusted_rand_score(species_labels, predicted_labels_unscaled)\n",
    "ari_scaled = adjusted_rand_score(species_labels, predicted_labels_scaled)\n",
    "\n",
    "print(\"Adjusted Rand Index for the unscaled dataset:\", ari_unscaled)\n",
    "print(\"Adjusted Rand Index for the scaled dataset:\", ari_scaled)"
   ]
  },
  {
   "cell_type": "markdown",
   "metadata": {},
   "source": [
    "Oh dear, we've made it worse!"
   ]
  },
  {
   "cell_type": "markdown",
   "metadata": {},
   "source": [
    "The problem isn't that scaling the data was a bad idea. The problem now is that we're treating all of the columns equally, whereas an expert on irises would be able to tell you that the petal lengths and widths tend to be more useful than sepal lengths and widths for distinguishing between different iris species. "
   ]
  },
  {
   "cell_type": "markdown",
   "metadata": {},
   "source": [
    "### Apply feature weighting\n",
    "We will now apply this domain knowledge by reducing the weight of sepal length and sepal width."
   ]
  },
  {
   "cell_type": "code",
   "execution_count": 31,
   "metadata": {},
   "outputs": [],
   "source": [
    "# Here we set the first two features (sepal length and sepal width) to be a fifth as important\n",
    "# as the last two (petal length and petal width).\n",
    "\n",
    "feature_weights = np.array([0.2, 0.2, 1., 1.])"
   ]
  },
  {
   "cell_type": "code",
   "execution_count": 32,
   "metadata": {},
   "outputs": [],
   "source": [
    "# Weights based on feature importances from decision tree in classifying-irises.ipynb\n",
    "# feature_weights = np.array([0.03550967, 0.03550967, 1., 0.78715117])\n",
    "\n",
    "# Weights based on feature importances from random forest\n",
    "# feature_weights = np.array([0.22165819, 0.08485548, 0.99763139, 1.])"
   ]
  },
  {
   "cell_type": "code",
   "execution_count": 33,
   "metadata": {},
   "outputs": [],
   "source": [
    "X_weighted = X_scaled * feature_weights"
   ]
  },
  {
   "cell_type": "markdown",
   "metadata": {},
   "source": [
    "#### Perform hierarchical clustering on the weighted data"
   ]
  },
  {
   "cell_type": "code",
   "execution_count": 34,
   "metadata": {},
   "outputs": [],
   "source": [
    "Z_weighted = linkage(X_weighted, method='ward')"
   ]
  },
  {
   "cell_type": "code",
   "execution_count": 35,
   "metadata": {},
   "outputs": [
    {
     "data": {
      "text/plain": [
       "Text(0.5, 1.0, 'Iris Hierarchical Clustering Dendrogram (Weighted Features)')"
      ]
     },
     "execution_count": 35,
     "metadata": {},
     "output_type": "execute_result"
    },
    {
     "data": {
      "image/png": "[encoded data removed]",
      "text/plain": [
       "<Figure size 800x2000 with 1 Axes>"
      ]
     },
     "metadata": {},
     "output_type": "display_data"
    }
   ],
   "source": [
    "# Plot the dendrogram\n",
    "plt.figure(figsize=(8, 20))\n",
    "dendrogram(Z_weighted,\n",
    "           labels=species_labels,\n",
    "           color_threshold=5,\n",
    "           orientation='left')\n",
    "plt.title(\"Iris Hierarchical Clustering Dendrogram (Weighted Features)\")"
   ]
  },
  {
   "cell_type": "markdown",
   "metadata": {},
   "source": [
    "### Calculate and print ARI"
   ]
  },
  {
   "cell_type": "code",
   "execution_count": 36,
   "metadata": {},
   "outputs": [
    {
     "name": "stdout",
     "output_type": "stream",
     "text": [
      "Adjusted Rand Index (Weighted): 0.8856970310281228\n"
     ]
    }
   ],
   "source": [
    "predicted_labels_weighted = fcluster(Z_weighted, t=3, criterion='maxclust')\n",
    "\n",
    "ari_weighted = adjusted_rand_score(species_labels, predicted_labels_weighted)\n",
    "print(\"Adjusted Rand Index (Weighted):\", ari_weighted)"
   ]
  },
  {
   "cell_type": "markdown",
   "metadata": {},
   "source": [
    "We've made a big improvement now - our clusters more closely correspond with the species labels. Of course, we might not have labels in a real-world unsupervised learning situation. This example highlights the value of domain knowledge in data analysis and machine learning. Without domain knowledge, we wouldn't have known that it would be a good idea to to weight the petal features more heavily than the sepal features."
   ]
  },
  {
   "cell_type": "markdown",
   "metadata": {},
   "source": [
    "#### Colour the labels\n",
    "The example below shows the same dendrogram, but this time the labels are coloured to match the colours used when constructing the dendrogram. This makes it easier to spot irises that appear to be in the wrong cluster."
   ]
  },
  {
   "cell_type": "code",
   "execution_count": 38,
   "metadata": {},
   "outputs": [
    {
     "data": {
      "image/png": "[encoded data removed]",
      "text/plain": [
       "<Figure size 800x2000 with 1 Axes>"
      ]
     },
     "metadata": {},
     "output_type": "display_data"
    }
   ],
   "source": [
    "# Create a mapping from species name to the colour you want\n",
    "species_colour_map = {\n",
    "    \"setosa\": \"orange\",\n",
    "    \"versicolor\": \"green\",\n",
    "    \"virginica\": \"red\"\n",
    "}\n",
    "\n",
    "plt.figure(figsize=(8, 20))\n",
    "dendrogram(Z_weighted,\n",
    "           labels=species_labels,\n",
    "           color_threshold=5,\n",
    "           orientation='left')\n",
    "ax = plt.gca()  # get the current axes\n",
    "\n",
    "for text in ax.get_yticklabels():\n",
    "    label = text.get_text().lower()\n",
    "    text.set_color(species_colour_map.get(label))"
   ]
  }
 ],
 "metadata": {
  "kernelspec": {
   "display_name": "AI-ML-Bootcamp-24-25",
   "language": "python",
   "name": "python3"
  },
  "language_info": {
   "codemirror_mode": {
    "name": "ipython",
    "version": 3
   },
   "file_extension": ".py",
   "mimetype": "text/x-python",
   "name": "python",
   "nbconvert_exporter": "python",
   "pygments_lexer": "ipython3",
   "version": "3.12.4"
  }
 },
 "nbformat": 4,
 "nbformat_minor": 2
}
