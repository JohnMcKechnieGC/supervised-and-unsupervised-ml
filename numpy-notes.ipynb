{
 "cells": [
  {
   "cell_type": "markdown",
   "metadata": {},
   "source": [
    "## NumPy Notes\n",
    "NumPy is a fundamental package for numerical computing in Python. It provides support for large, multi-dimensional arrays and matrices, along with a collection of mathematical functions to operate on these arrays efficiently. This notebook provides a brief introduction to NumPy as well as some explanations of how it has been used in k-means-clustering-demo.ipynb.\n",
    "\n",
    "For a more methodical introduction, you may find the W3Schools tutorial useful: https://www.w3schools.com/python/numpy/numpy_intro.asp "
   ]
  },
  {
   "cell_type": "markdown",
   "metadata": {},
   "source": [
    "## NumPy Arrays\n",
    "A NumPy array is a grid of values, all of the same type, indexed by a tuple of non-negative integers. The number of dimensions is the rank of the array, and the shape of an array is a tuple of integers giving the size of the array along each dimension."
   ]
  },
  {
   "cell_type": "markdown",
   "metadata": {},
   "source": [
    "## Creating NumPy Arrays"
   ]
  },
  {
   "cell_type": "code",
   "execution_count": 1,
   "metadata": {},
   "outputs": [
    {
     "name": "stdout",
     "output_type": "stream",
     "text": [
      "1D array:\n",
      " [1 2 3]\n",
      "\n",
      "2D array:\n",
      " [[1 2 3]\n",
      " [4 5 6]]\n"
     ]
    }
   ],
   "source": [
    "import numpy as np\n",
    "\n",
    "# Create a NumPy array from a Python list\n",
    "a = np.array([1, 2, 3])\n",
    "print(\"1D array:\\n\", a)\n",
    "\n",
    "# Create a 2D NumPy array (matrix)\n",
    "b = np.array([[1, 2, 3], [4, 5, 6]])\n",
    "print(\"\\n2D array:\\n\", b)"
   ]
  },
  {
   "cell_type": "code",
   "execution_count": 2,
   "metadata": {},
   "outputs": [
    {
     "data": {
      "text/plain": [
       "(3,)"
      ]
     },
     "execution_count": 2,
     "metadata": {},
     "output_type": "execute_result"
    }
   ],
   "source": [
    "a.shape"
   ]
  },
  {
   "cell_type": "code",
   "execution_count": 3,
   "metadata": {},
   "outputs": [
    {
     "data": {
      "text/plain": [
       "(2, 3)"
      ]
     },
     "execution_count": 3,
     "metadata": {},
     "output_type": "execute_result"
    }
   ],
   "source": [
    "b.shape"
   ]
  },
  {
   "cell_type": "markdown",
   "metadata": {},
   "source": [
    "## Broadcasting\n",
    "Broadcasting is a powerful mechanism that allows NumPy to work with arrays of different shapes when performing arithmetic operations. Frequently, we have a smaller array and a larger array, and we want to use the smaller array multiple times to perform some operation on the larger array."
   ]
  },
  {
   "cell_type": "markdown",
   "metadata": {},
   "source": [
    "For example, if we want to add a constant vector to each row of a matrix, we can do this:"
   ]
  },
  {
   "cell_type": "code",
   "execution_count": 4,
   "metadata": {},
   "outputs": [
    {
     "data": {
      "text/plain": [
       "array([[ 2,  2,  4],\n",
       "       [ 5,  5,  7],\n",
       "       [ 8,  8, 10]])"
      ]
     },
     "execution_count": 4,
     "metadata": {},
     "output_type": "execute_result"
    }
   ],
   "source": [
    "# Add a vector to each row of a matrix\n",
    "matrix = np.array([[1, 2, 3], [4, 5, 6], [7, 8, 9]])\n",
    "vector = np.array([1, 0, 1])\n",
    "\n",
    "# Broadcasting happens here\n",
    "result = matrix + vector\n",
    "\n",
    "result"
   ]
  },
  {
   "cell_type": "markdown",
   "metadata": {},
   "source": [
    "## Understanding np.newaxis\n",
    "np.newaxis is used here to increase the dimension of the existing array by one more dimension. This is often used in combination with broadcasting."
   ]
  },
  {
   "cell_type": "code",
   "execution_count": 5,
   "metadata": {},
   "outputs": [
    {
     "name": "stdout",
     "output_type": "stream",
     "text": [
      "[1 2 3]\n",
      "(3,)\n",
      "\n",
      "[[1]\n",
      " [2]\n",
      " [3]]\n",
      "(3, 1)\n"
     ]
    }
   ],
   "source": [
    "# Create an array called v, print it, and print its shape\n",
    "v = np.array([1, 2, 3])\n",
    "print(v)\n",
    "print(v.shape)  # (3,)\n",
    "\n",
    "print()  # Print blank line\n",
    "\n",
    "# Use np.newaxis to print v a column vector and then print its shape of the column vector\n",
    "print(v[:, np.newaxis])\n",
    "print(v[:, np.newaxis].shape)  # (3, 1)"
   ]
  },
  {
   "cell_type": "markdown",
   "metadata": {},
   "source": [
    "## Vectorized Operations\n",
    "NumPy provides a way to perform operations on arrays without writing explicit loops. This is not only more syntactically convenient but also leads to code that is more efficient.\n",
    "\n",
    "The k-means clustering demo uses Pythagoras' theorem to calculate the Euclidean distance (https://en.wikipedia.org/wiki/Euclidean_distance) between each datapoint and each centroid using the expression __np.sqrt(((data - centroids[:, np.newaxis])**2).sum(axis=2))__\n",
    "\n",
    "Let's break this expression down and see how it works step by step. "
   ]
  },
  {
   "cell_type": "markdown",
   "metadata": {},
   "source": [
    "### Setting up our data and centroid arrays\n",
    "First we'll create a 2D array representing 4 points, similar to the __data__ variable in the k-means clustering demo."
   ]
  },
  {
   "cell_type": "code",
   "execution_count": 6,
   "metadata": {},
   "outputs": [
    {
     "data": {
      "text/plain": [
       "array([[5.49, 4.86],\n",
       "       [5.64, 6.52],\n",
       "       [4.76, 4.76],\n",
       "       [6.57, 5.76]])"
      ]
     },
     "execution_count": 6,
     "metadata": {},
     "output_type": "execute_result"
    }
   ],
   "source": [
    "data = np.array([[5.49, 4.86], [5.64, 6.52], [4.76, 4.76], [6.57, 5.76]])\n",
    "data"
   ]
  },
  {
   "cell_type": "markdown",
   "metadata": {},
   "source": [
    "And then create a 2D array representing the coordinates of two centroids, similar to the __centroids__ variable in the k-means clustering demo."
   ]
  },
  {
   "cell_type": "code",
   "execution_count": 7,
   "metadata": {},
   "outputs": [
    {
     "data": {
      "text/plain": [
       "array([[5.49, 4.86],\n",
       "       [5.64, 6.52]])"
      ]
     },
     "execution_count": 7,
     "metadata": {},
     "output_type": "execute_result"
    }
   ],
   "source": [
    "centroids = np.array([[5.49, 4.86], [5.64, 6.52]])\n",
    "centroids"
   ]
  },
  {
   "cell_type": "markdown",
   "metadata": {},
   "source": [
    "### centroids[:, np.newaxis]\n",
    "This transforms the centroids array into a shape that's compatible with data for broadcasting. If centroids is a 2D array with shape (n_centroids, n_features), this operation makes it (n_centroids, 1, n_features)."
   ]
  },
  {
   "cell_type": "code",
   "execution_count": 8,
   "metadata": {},
   "outputs": [
    {
     "data": {
      "text/plain": [
       "array([[[5.49, 4.86]],\n",
       "\n",
       "       [[5.64, 6.52]]])"
      ]
     },
     "execution_count": 8,
     "metadata": {},
     "output_type": "execute_result"
    }
   ],
   "source": [
    "centroids[:, np.newaxis]"
   ]
  },
  {
   "cell_type": "markdown",
   "metadata": {},
   "source": [
    "### data - centroids[:, np.newaxis]\n",
    "Thanks to broadcasting, this subtracts each centroid from each point in data, despite their shapes being different. If data is (n_points, n_features), this results in an array of shape (n_centroids, n_points, n_features), (2, 4, 2) in this case. These are the horizontal and vertical distances from each point to the corresponding centroid."
   ]
  },
  {
   "cell_type": "code",
   "execution_count": 9,
   "metadata": {},
   "outputs": [
    {
     "data": {
      "text/plain": [
       "array([[[ 0.  ,  0.  ],\n",
       "        [ 0.15,  1.66],\n",
       "        [-0.73, -0.1 ],\n",
       "        [ 1.08,  0.9 ]],\n",
       "\n",
       "       [[-0.15, -1.66],\n",
       "        [ 0.  ,  0.  ],\n",
       "        [-0.88, -1.76],\n",
       "        [ 0.93, -0.76]]])"
      ]
     },
     "execution_count": 9,
     "metadata": {},
     "output_type": "execute_result"
    }
   ],
   "source": [
    "data - centroids[:, np.newaxis]"
   ]
  },
  {
   "cell_type": "markdown",
   "metadata": {},
   "source": [
    "### **2\n",
    "This squares each element of the resulting array. Our horizontal and vertical distances will now be squared."
   ]
  },
  {
   "cell_type": "code",
   "execution_count": 10,
   "metadata": {},
   "outputs": [
    {
     "data": {
      "text/plain": [
       "array([[[0.    , 0.    ],\n",
       "        [0.0225, 2.7556],\n",
       "        [0.5329, 0.01  ],\n",
       "        [1.1664, 0.81  ]],\n",
       "\n",
       "       [[0.0225, 2.7556],\n",
       "        [0.    , 0.    ],\n",
       "        [0.7744, 3.0976],\n",
       "        [0.8649, 0.5776]]])"
      ]
     },
     "execution_count": 10,
     "metadata": {},
     "output_type": "execute_result"
    }
   ],
   "source": [
    "(data - centroids[:, np.newaxis])**2"
   ]
  },
  {
   "cell_type": "markdown",
   "metadata": {},
   "source": [
    "### .sum(axis=2)\n",
    "Sums over the last dimension (the squared horizontal and vertical distances from datapoint to centroid), resulting in the squared Euclidean distance from each point to the corresponding centroid. The shape now is (n_centroids, n_points)."
   ]
  },
  {
   "cell_type": "code",
   "execution_count": 11,
   "metadata": {},
   "outputs": [
    {
     "data": {
      "text/plain": [
       "array([[0.    , 2.7781, 0.5429, 1.9764],\n",
       "       [2.7781, 0.    , 3.872 , 1.4425]])"
      ]
     },
     "execution_count": 11,
     "metadata": {},
     "output_type": "execute_result"
    }
   ],
   "source": [
    "((data - centroids[:, np.newaxis])**2).sum(axis=2)"
   ]
  },
  {
   "cell_type": "markdown",
   "metadata": {},
   "source": [
    "### np.sqrt(...)\n",
    "This takes the square root of each element, finally giving the Euclidean distance from each point to each centroid.\n",
    "\n",
    "The distances variable will then refer to an array with the following structure:<br>\n",
    "[<br>\n",
    "&emsp;[distance from point 0 to centroid 0, distance from point 1 to centroid 0, distance from point 2 to centroid 0, ...]<br>\n",
    "&emsp;[distance from point 0 to centroid 1, distance from point 1 to centroid 1, distance from point 2 to centroid 1, ...]<br>\n",
    "&emsp;...<br>\n",
    "]"
   ]
  },
  {
   "cell_type": "code",
   "execution_count": 12,
   "metadata": {},
   "outputs": [
    {
     "data": {
      "text/plain": [
       "array([[0.        , 1.66676333, 0.73681748, 1.40584494],\n",
       "       [1.66676333, 0.        , 1.96773982, 1.20104121]])"
      ]
     },
     "execution_count": 12,
     "metadata": {},
     "output_type": "execute_result"
    }
   ],
   "source": [
    "distances = np.sqrt(((data - centroids[:, np.newaxis])**2).sum(axis=2))\n",
    "distances"
   ]
  },
  {
   "cell_type": "markdown",
   "metadata": {},
   "source": [
    "### Deciding which centroid each point is closest to (assigning points to a cluster)\n",
    "\n",
    "We can now use np.argmin to choose the centroid closest to each point, giving us 0, 1, 0, and 1.\n",
    "\n",
    "array([<br>\n",
    "&emsp;[__0.__ &emsp; &emsp; &emsp; &emsp;, 1.66676333 &emsp;, __0.73681748__ &emsp;, 1.40584494],  # distances from each point to cluster 0<br>\n",
    "&emsp;[1.66676333, &nbsp;&nbsp; __0.__ &emsp; &emsp; &emsp; &emsp; &nbsp;, 1.96773982 &emsp;, __1.20104121__]  # distances from each point to cluster 1<br>])\n",
    "\n",
    "Point 0 is closest to centroid 0, point 1 is closest to centroid 1, point 2 is closest to centroid 0, and point 3 is closest to centroid 1."
   ]
  },
  {
   "cell_type": "code",
   "execution_count": 13,
   "metadata": {},
   "outputs": [
    {
     "data": {
      "text/plain": [
       "array([0, 1, 0, 1], dtype=int64)"
      ]
     },
     "execution_count": 13,
     "metadata": {},
     "output_type": "execute_result"
    }
   ],
   "source": [
    "assignments = np.argmin(distances, axis=0)\n",
    "assignments"
   ]
  },
  {
   "cell_type": "markdown",
   "metadata": {},
   "source": [
    "## Selecting Initial Centroids\n",
    "In the k-means clustering demo I indicated that the initial centroids could be chosen randomly using the following code:<br>\n",
    "initial_centroids = data[np.random.choice(<br>\n",
    "&emsp;&emsp;&emsp;&emsp;&emsp;&emsp;&emsp;&emsp;&emsp;&emsp;&emsp;data.shape[0], NUMBER_OF_CLUSTERS, replace=False), :]"
   ]
  },
  {
   "cell_type": "markdown",
   "metadata": {},
   "source": [
    "Run the code cell below several times and you will see that two points from our data are being selected randomly each time."
   ]
  },
  {
   "cell_type": "code",
   "execution_count": 14,
   "metadata": {},
   "outputs": [
    {
     "data": {
      "text/plain": [
       "array([[5.49, 4.86],\n",
       "       [6.57, 5.76]])"
      ]
     },
     "execution_count": 14,
     "metadata": {},
     "output_type": "execute_result"
    }
   ],
   "source": [
    "NUMBER_OF_CLUSTERS = 2\n",
    "\n",
    "initial_centroids = data[np.random.choice(\n",
    "    data.shape[0], NUMBER_OF_CLUSTERS, replace=False), :]\n",
    "\n",
    "initial_centroids"
   ]
  },
  {
   "cell_type": "markdown",
   "metadata": {},
   "source": [
    "This section breaks down the expression step by step."
   ]
  },
  {
   "cell_type": "markdown",
   "metadata": {},
   "source": [
    "Here we remind ourselves what the __data__ variable refers to: a 2D array representing the x and y coordinates of our data points."
   ]
  },
  {
   "cell_type": "code",
   "execution_count": 15,
   "metadata": {},
   "outputs": [
    {
     "data": {
      "text/plain": [
       "array([[5.49, 4.86],\n",
       "       [5.64, 6.52],\n",
       "       [4.76, 4.76],\n",
       "       [6.57, 5.76]])"
      ]
     },
     "execution_count": 15,
     "metadata": {},
     "output_type": "execute_result"
    }
   ],
   "source": [
    "data"
   ]
  },
  {
   "cell_type": "markdown",
   "metadata": {},
   "source": [
    "We can use .shape to confirm that the array has two dimensions sized 4 and 2."
   ]
  },
  {
   "cell_type": "code",
   "execution_count": 16,
   "metadata": {},
   "outputs": [
    {
     "data": {
      "text/plain": [
       "(4, 2)"
      ]
     },
     "execution_count": 16,
     "metadata": {},
     "output_type": "execute_result"
    }
   ],
   "source": [
    "data.shape"
   ]
  },
  {
   "cell_type": "markdown",
   "metadata": {},
   "source": [
    ".shape[0] gives us the size of the first dimension - this is the number of data points."
   ]
  },
  {
   "cell_type": "code",
   "execution_count": 17,
   "metadata": {},
   "outputs": [
    {
     "data": {
      "text/plain": [
       "4"
      ]
     },
     "execution_count": 17,
     "metadata": {},
     "output_type": "execute_result"
    }
   ],
   "source": [
    "data.shape[0]"
   ]
  },
  {
   "cell_type": "markdown",
   "metadata": {},
   "source": [
    "np.random.choice is used below to select 2 values in range 0, 1, 2, 3."
   ]
  },
  {
   "cell_type": "code",
   "execution_count": 18,
   "metadata": {},
   "outputs": [
    {
     "data": {
      "text/plain": [
       "array([0, 0])"
      ]
     },
     "execution_count": 18,
     "metadata": {},
     "output_type": "execute_result"
    }
   ],
   "source": [
    "np.random.choice(4, 2)"
   ]
  },
  {
   "cell_type": "markdown",
   "metadata": {},
   "source": [
    "Since data.shape[0] equals 4 and NUMBER_OF_CLUSTERS equals 2, the following line is equivalent."
   ]
  },
  {
   "cell_type": "code",
   "execution_count": 19,
   "metadata": {},
   "outputs": [
    {
     "data": {
      "text/plain": [
       "array([0, 0])"
      ]
     },
     "execution_count": 19,
     "metadata": {},
     "output_type": "execute_result"
    }
   ],
   "source": [
    "np.random.choice(data.shape[0], NUMBER_OF_CLUSTERS)"
   ]
  },
  {
   "cell_type": "markdown",
   "metadata": {},
   "source": [
    "If you run the above cell enough times, you will see that np.random.choice sometimes picks the same values for both numbers. We can prevent this by setting replace=False. Run the cell below several times and you'll see that it always picks two different numbers. In the context of k-means clustering, this enables us to avoid picking the same point twice as an initial centroid."
   ]
  },
  {
   "cell_type": "code",
   "execution_count": 20,
   "metadata": {},
   "outputs": [
    {
     "data": {
      "text/plain": [
       "array([0, 2])"
      ]
     },
     "execution_count": 20,
     "metadata": {},
     "output_type": "execute_result"
    }
   ],
   "source": [
    "np.random.choice(data.shape[0], NUMBER_OF_CLUSTERS, replace=False)"
   ]
  },
  {
   "cell_type": "markdown",
   "metadata": {},
   "source": [
    "We can select specific rows from our data array by indexing with a list or array of indexes. Here we select the first and last rows (indexes 0 and 3) using a list."
   ]
  },
  {
   "cell_type": "code",
   "execution_count": 21,
   "metadata": {},
   "outputs": [
    {
     "data": {
      "text/plain": [
       "array([[5.49, 4.86],\n",
       "       [6.57, 5.76]])"
      ]
     },
     "execution_count": 21,
     "metadata": {},
     "output_type": "execute_result"
    }
   ],
   "source": [
    "data[[0, 3]]"
   ]
  },
  {
   "cell_type": "markdown",
   "metadata": {},
   "source": [
    "And here we do the same thing but using the array of indexes randomly selected by np.random.choice "
   ]
  },
  {
   "cell_type": "code",
   "execution_count": 22,
   "metadata": {},
   "outputs": [
    {
     "data": {
      "text/plain": [
       "array([[4.76, 4.76],\n",
       "       [6.57, 5.76]])"
      ]
     },
     "execution_count": 22,
     "metadata": {},
     "output_type": "execute_result"
    }
   ],
   "source": [
    "data[np.random.choice(data.shape[0], NUMBER_OF_CLUSTERS, replace=False)]"
   ]
  },
  {
   "cell_type": "markdown",
   "metadata": {},
   "source": [
    "In NumPy indexing, the colon : operator means \"select all\" in the given dimension. In the context of 2D arrays it doesn't change the result, but it is more explicit and therefore often preferred. You can examine the output from the code below to see the effects."
   ]
  },
  {
   "cell_type": "code",
   "execution_count": 23,
   "metadata": {},
   "outputs": [
    {
     "name": "stdout",
     "output_type": "stream",
     "text": [
      "[[5.49 4.86]\n",
      " [6.57 5.76]]\n",
      "\n",
      "[5.49 6.57]\n",
      "\n",
      "[4.86 5.76]\n",
      "\n",
      "[[5.49 4.86]\n",
      " [6.57 5.76]]\n"
     ]
    }
   ],
   "source": [
    "# Print the first and last rows of the data array.\n",
    "print(data[[0, 3]])\n",
    "print()\n",
    "\n",
    "# Print only the x-coordinate of the first and last rows of the data array.\n",
    "print(data[[0, 3], 0])\n",
    "print()\n",
    "\n",
    "# Print only the y-coordinate of the first and last rows of the data array.\n",
    "print(data[[0, 3], 1])\n",
    "print()\n",
    "\n",
    "# Print the first and last rows of the data array, explicitly selecting the whole row for printing.\n",
    "print(data[[0, 3], :])"
   ]
  },
  {
   "cell_type": "markdown",
   "metadata": {},
   "source": [
    "And now we have arrived back at the final expression for selecting the initial centroids for our clusters:"
   ]
  },
  {
   "cell_type": "code",
   "execution_count": 24,
   "metadata": {},
   "outputs": [
    {
     "data": {
      "text/plain": [
       "array([[5.64, 6.52],\n",
       "       [6.57, 5.76]])"
      ]
     },
     "execution_count": 24,
     "metadata": {},
     "output_type": "execute_result"
    }
   ],
   "source": [
    "data[np.random.choice(data.shape[0], NUMBER_OF_CLUSTERS, replace=False), :]"
   ]
  }
 ],
 "metadata": {
  "kernelspec": {
   "display_name": "AI-ML-Bootcamp",
   "language": "python",
   "name": "python3"
  },
  "language_info": {
   "codemirror_mode": {
    "name": "ipython",
    "version": 3
   },
   "file_extension": ".py",
   "mimetype": "text/x-python",
   "name": "python",
   "nbconvert_exporter": "python",
   "pygments_lexer": "ipython3",
   "version": "3.9.18"
  }
 },
 "nbformat": 4,
 "nbformat_minor": 2
}
